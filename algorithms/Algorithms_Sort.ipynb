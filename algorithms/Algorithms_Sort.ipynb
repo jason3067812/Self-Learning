{
 "cells": [
  {
   "cell_type": "markdown",
   "id": "86292953",
   "metadata": {},
   "source": [
    "## Sort"
   ]
  },
  {
   "cell_type": "markdown",
   "id": "084e3263",
   "metadata": {},
   "source": [
    "### Bubble Sort"
   ]
  },
  {
   "cell_type": "code",
   "execution_count": 15,
   "id": "f84c6c49",
   "metadata": {},
   "outputs": [],
   "source": [
    "def bubble_sort(arr):\n",
    "    \n",
    "    length = len(arr)\n",
    "    while True:\n",
    "        swapped = False\n",
    "        \n",
    "        for i in range(length-1):\n",
    "        \n",
    "            if arr[i+1] < arr[i]:\n",
    "                swapped = True\n",
    "                arr[i], arr[i+1] = arr[i+1], arr[i]\n",
    "            #print(arr)\n",
    "                \n",
    "        if not swapped:\n",
    "            return arr "
   ]
  },
  {
   "cell_type": "code",
   "execution_count": 100,
   "id": "33ef48a6",
   "metadata": {},
   "outputs": [
    {
     "name": "stdout",
     "output_type": "stream",
     "text": [
      "0.11864542961120605\n"
     ]
    }
   ],
   "source": [
    "import time\n",
    "import random\n",
    "arr = random.sample(range(1,1001),1000)\n",
    "\n",
    "start = time.time()\n",
    "bubble_sort(arr)\n",
    "end = time.time()\n",
    "print(end-start)"
   ]
  },
  {
   "cell_type": "markdown",
   "id": "4adf4a8f",
   "metadata": {},
   "source": [
    "### Bucket Sort"
   ]
  },
  {
   "cell_type": "code",
   "execution_count": 119,
   "id": "953c28c3",
   "metadata": {},
   "outputs": [],
   "source": [
    "def bucket_sort(arr):\n",
    "    \n",
    "    ceil = max(arr)\n",
    "    floor = min(arr)\n",
    "    length = len(arr)\n",
    "    \n",
    "    zone = ceil//length\n",
    "    #print(zone)\n",
    "    bucket_range_list = []\n",
    "    bucket_list = []\n",
    "    s = 0\n",
    "    for i in range(length):\n",
    "        \n",
    "        t = s + zone\n",
    "        bucket_range_list.append([s,t])\n",
    "        bucket_list.append([])\n",
    "        s = t+1\n",
    "        \n",
    "    #print(bucket_list)\n",
    "    #print(bucket_range_list)\n",
    "    \n",
    "    for j in range(length):\n",
    "        l = (arr[j] // zone)\n",
    "        if l >= length:\n",
    "            bucket_list[-1].append(arr[j])\n",
    "        else:\n",
    "            bucket_list[l].append(arr[j])\n",
    "\n",
    "\n",
    "    \n",
    "    for k in bucket_list:\n",
    "        k.sort()\n",
    "    \n",
    "    final_output = []\n",
    "    for h in range(length):\n",
    "      \n",
    "        final_output = final_output + bucket_list[h]\n",
    "    return final_output\n",
    "    "
   ]
  },
  {
   "cell_type": "code",
   "execution_count": 126,
   "id": "abf07e1d",
   "metadata": {},
   "outputs": [
    {
     "name": "stdout",
     "output_type": "stream",
     "text": [
      "0.0019953250885009766\n"
     ]
    }
   ],
   "source": [
    "import time\n",
    "import random\n",
    "arr = random.sample(range(1,1001),1000)\n",
    "\n",
    "start = time.time()\n",
    "bucket_sort(arr)\n",
    "end = time.time()\n",
    "print(end-start)"
   ]
  },
  {
   "cell_type": "markdown",
   "id": "b1736d0e",
   "metadata": {},
   "source": [
    "### Insertion Sort"
   ]
  },
  {
   "cell_type": "code",
   "execution_count": 175,
   "id": "2bbbc0f5",
   "metadata": {},
   "outputs": [],
   "source": [
    "def insertion_sort(arr):\n",
    "    for i in range (1, len (arr)):\n",
    "        var = arr[i]\n",
    "        j = i - 1\n",
    "        #print(j)\n",
    "        while (j >= 0 and var < arr[j]):\n",
    "            arr[j + 1] = arr[j]\n",
    "            #print(arr)\n",
    "            j = j - 1\n",
    "        arr[j + 1] = var\n",
    "        #print(arr)\n",
    "\n",
    "arr = [90,34,56,32,87,90,12,5]\n",
    "insertion_sort(arr)"
   ]
  },
  {
   "cell_type": "code",
   "execution_count": 176,
   "id": "d4627750",
   "metadata": {},
   "outputs": [
    {
     "name": "stdout",
     "output_type": "stream",
     "text": [
      "0.04089093208312988\n"
     ]
    }
   ],
   "source": [
    "import time\n",
    "import random\n",
    "arr = random.sample(range(1,1001),1000)\n",
    "\n",
    "start = time.time()\n",
    "insertion_sort(arr)\n",
    "end = time.time()\n",
    "print(end-start)"
   ]
  },
  {
   "cell_type": "markdown",
   "id": "da70642c",
   "metadata": {},
   "source": [
    "### Quick Sort"
   ]
  },
  {
   "cell_type": "code",
   "execution_count": 168,
   "id": "781e8690",
   "metadata": {},
   "outputs": [
    {
     "data": {
      "text/plain": [
       "[1, 3, 5, 7, 8, 9, 10]"
      ]
     },
     "execution_count": 168,
     "metadata": {},
     "output_type": "execute_result"
    }
   ],
   "source": [
    "def quick_sort(arr):\n",
    "    \n",
    "    n = len(arr)\n",
    "    \n",
    "    if n<=1:\n",
    "        return arr\n",
    "    \n",
    "    left = []\n",
    "    right = []\n",
    "    pivot = arr[0]\n",
    "    \n",
    "    for i in range(1,n):\n",
    "        if arr[i] <= pivot:\n",
    "            left.append(arr[i])\n",
    "        else:\n",
    "            right.append(arr[i])\n",
    "            \n",
    "            \n",
    "    return quick_sort(left)+[pivot]+quick_sort(right)\n",
    "    \n",
    "    \n",
    "    \n",
    "arr = [3, 10, 7, 8, 9, 1, 5] \n",
    "quick_sort(arr)"
   ]
  },
  {
   "cell_type": "code",
   "execution_count": 171,
   "id": "fe346f2f",
   "metadata": {},
   "outputs": [
    {
     "name": "stdout",
     "output_type": "stream",
     "text": [
      "0.002991914749145508\n"
     ]
    }
   ],
   "source": [
    "import time\n",
    "import random\n",
    "arr = random.sample(range(1,1001),1000)\n",
    "\n",
    "start = time.time()\n",
    "quick_sort(arr)\n",
    "end = time.time()\n",
    "print(end-start)"
   ]
  },
  {
   "cell_type": "code",
   "execution_count": null,
   "id": "3d3f7b04",
   "metadata": {},
   "outputs": [],
   "source": []
  }
 ],
 "metadata": {
  "kernelspec": {
   "display_name": "Python 3 (ipykernel)",
   "language": "python",
   "name": "python3"
  },
  "language_info": {
   "codemirror_mode": {
    "name": "ipython",
    "version": 3
   },
   "file_extension": ".py",
   "mimetype": "text/x-python",
   "name": "python",
   "nbconvert_exporter": "python",
   "pygments_lexer": "ipython3",
   "version": "3.8.12"
  }
 },
 "nbformat": 4,
 "nbformat_minor": 5
}
