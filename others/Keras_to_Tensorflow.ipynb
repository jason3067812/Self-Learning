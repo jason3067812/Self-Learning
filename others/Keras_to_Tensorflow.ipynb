{
 "cells": [
  {
   "cell_type": "code",
   "execution_count": 4,
   "id": "80a8284e",
   "metadata": {},
   "outputs": [
    {
     "name": "stdout",
     "output_type": "stream",
     "text": [
      "WARNING:tensorflow:No training configuration found in save file: the model was *not* compiled. Compile it manually.\n",
      "Keras model is successfully converted to TF model in C:\\Users\\jason\\face_toolbox_keras-master\\models\\detector\\FAN\\tensorflow\\2DFAN-1_tensorflow\n"
     ]
    }
   ],
   "source": [
    "# import the needed libraries\n",
    "import tensorflow as tf\n",
    "tf.keras.backend.set_learning_phase(0) #use this if we have batch norm layer in our network\n",
    "from tensorflow.keras.models import load_model\n",
    "\n",
    "# path we wanna save our converted TF-model\n",
    "#MODEL_PATH = \"./model/tensorflow/big/model1\"\n",
    "MODEL_PATH = r\"C:\\Users\\jason\\face_toolbox_keras-master\\models\\detector\\FAN\\tensorflow\\2DFAN-1_tensorflow\"\n",
    "\n",
    "# load the Keras model\n",
    "#model = load_model('./model/modelLeNet5.h5')\n",
    "model = load_model(r'C:\\Users\\jason\\face_toolbox_keras-master\\models\\detector\\FAN\\2DFAN-1_keras.h5')\n",
    "\n",
    "# save the model to Tensorflow model\n",
    "saver = tf.train.Saver()\n",
    "sess = tf.keras.backend.get_session()\n",
    "save_path = saver.save(sess, MODEL_PATH)\n",
    "\n",
    "print(\"Keras model is successfully converted to TF model in \"+MODEL_PATH)"
   ]
  },
  {
   "cell_type": "code",
   "execution_count": null,
   "id": "f016b33c",
   "metadata": {},
   "outputs": [],
   "source": []
  }
 ],
 "metadata": {
  "kernelspec": {
   "display_name": "Python 3",
   "language": "python",
   "name": "python3"
  },
  "language_info": {
   "codemirror_mode": {
    "name": "ipython",
    "version": 3
   },
   "file_extension": ".py",
   "mimetype": "text/x-python",
   "name": "python",
   "nbconvert_exporter": "python",
   "pygments_lexer": "ipython3",
   "version": "3.8.8"
  }
 },
 "nbformat": 4,
 "nbformat_minor": 5
}
