{
 "cells": [
  {
   "cell_type": "code",
   "execution_count": 5,
   "id": "78fc7cd2",
   "metadata": {},
   "outputs": [],
   "source": [
    "import numpy as np\n",
    "\n",
    "def get_quad(angle, translation, scale, aspect_ratio=1.0):\n",
    "    if aspect_ratio > 1.0:\n",
    "        # width > height =>\n",
    "        # increase height region\n",
    "        quad = np.array([\n",
    "            [0.0, 0.5 - 0.5 * aspect_ratio],\n",
    "            [0.0, 0.5 + 0.5 * aspect_ratio],\n",
    "            [1.0, 0.5 + 0.5 * aspect_ratio],\n",
    "            [1.0, 0.5 - 0.5 * aspect_ratio],\n",
    "            \n",
    "        ])\n",
    "    elif aspect_ratio < 1.0:\n",
    "        # width < height\n",
    "        quad = np.array([\n",
    "            [0.5 - 0.5 / aspect_ratio, 0.0],\n",
    "            [0.5 - 0.5 / aspect_ratio, 1.0],\n",
    "            [0.5 + 0.5 / aspect_ratio, 1.0],\n",
    "            [0.5 + 0.5 / aspect_ratio, 0.0],\n",
    "            \n",
    "        ])\n",
    "    else:\n",
    "        quad = np.array([\n",
    "            [0.0, 0.0],\n",
    "            [0.0, 1.0],\n",
    "            [1.0, 1.0],\n",
    "            [1.0, 0.0],\n",
    "        ])\n",
    "        \n",
    "    quad -= 0.5\n",
    "\n",
    "    R = np.array([\n",
    "        [np.cos(angle), -np.sin(angle)],\n",
    "        [np.sin(angle), np.cos(angle)]\n",
    "    ])\n",
    "\n",
    "    quad = np.dot(quad, R)\n",
    "\n",
    "    quad -= np.array(translation)\n",
    "    quad /= scale\n",
    "    quad += 0.5\n",
    "    \n",
    "    return quad\n",
    "\n",
    "def transform_image(image, size, quad):\n",
    "    new_quad = np.zeros_like(quad)\n",
    "    \n",
    "    new_quad[:, 0] = quad[:, 0] * image.size[0]\n",
    "    new_quad[:, 1] = quad[:, 1] * image.size[1]\n",
    "    \n",
    "    new_quad = (new_quad[0][0], new_quad[0][1],\n",
    "            new_quad[1][0], new_quad[1][1],\n",
    "            new_quad[2][0], new_quad[2][1],\n",
    "            new_quad[3][0], new_quad[3][1])\n",
    "    \n",
    "    return image.transform(size, Image.QUAD, new_quad)"
   ]
  },
  {
   "cell_type": "code",
   "execution_count": 6,
   "id": "a476301c",
   "metadata": {},
   "outputs": [],
   "source": [
    "image_path = r\"D:\\Dementia_Data_Preprocessing\\test\\test.jpg\"\n",
    "angle = -45\n",
    "shiftx = 0\n",
    "shifty = 0\n",
    "scale = 1\n",
    "image_shape = [128,128]\n",
    "keep_aspect_ratio = False"
   ]
  },
  {
   "cell_type": "code",
   "execution_count": 7,
   "id": "8561a5a4",
   "metadata": {},
   "outputs": [
    {
     "ename": "FileNotFoundError",
     "evalue": "[Errno 2] No such file or directory: 'D:\\\\Dementia_Data_Preprocessing\\\\test\\\\test.jpg'",
     "output_type": "error",
     "traceback": [
      "\u001b[1;31m---------------------------------------------------------------------------\u001b[0m",
      "\u001b[1;31mFileNotFoundError\u001b[0m                         Traceback (most recent call last)",
      "\u001b[1;32m~\\AppData\\Local\\Temp/ipykernel_19576/955316447.py\u001b[0m in \u001b[0;36m<module>\u001b[1;34m\u001b[0m\n\u001b[0;32m      3\u001b[0m \u001b[1;33m\u001b[0m\u001b[0m\n\u001b[0;32m      4\u001b[0m \u001b[1;31m# creating image object\u001b[0m\u001b[1;33m\u001b[0m\u001b[1;33m\u001b[0m\u001b[1;33m\u001b[0m\u001b[0m\n\u001b[1;32m----> 5\u001b[1;33m \u001b[0mimage\u001b[0m \u001b[1;33m=\u001b[0m \u001b[0mImage\u001b[0m\u001b[1;33m.\u001b[0m\u001b[0mopen\u001b[0m\u001b[1;33m(\u001b[0m\u001b[0mimage_path\u001b[0m\u001b[1;33m)\u001b[0m\u001b[1;33m\u001b[0m\u001b[1;33m\u001b[0m\u001b[0m\n\u001b[0m\u001b[0;32m      6\u001b[0m \u001b[1;33m\u001b[0m\u001b[0m\n\u001b[0;32m      7\u001b[0m \u001b[0mangle\u001b[0m \u001b[1;33m=\u001b[0m \u001b[0mangle\u001b[0m\u001b[1;33m*\u001b[0m\u001b[0mnp\u001b[0m\u001b[1;33m.\u001b[0m\u001b[0mpi\u001b[0m\u001b[1;33m/\u001b[0m\u001b[1;36m180\u001b[0m\u001b[1;33m\u001b[0m\u001b[1;33m\u001b[0m\u001b[0m\n",
      "\u001b[1;32m~\\anaconda3\\envs\\pt17\\lib\\site-packages\\PIL\\Image.py\u001b[0m in \u001b[0;36mopen\u001b[1;34m(fp, mode, formats)\u001b[0m\n\u001b[0;32m   2966\u001b[0m \u001b[1;33m\u001b[0m\u001b[0m\n\u001b[0;32m   2967\u001b[0m     \u001b[1;32mif\u001b[0m \u001b[0mfilename\u001b[0m\u001b[1;33m:\u001b[0m\u001b[1;33m\u001b[0m\u001b[1;33m\u001b[0m\u001b[0m\n\u001b[1;32m-> 2968\u001b[1;33m         \u001b[0mfp\u001b[0m \u001b[1;33m=\u001b[0m \u001b[0mbuiltins\u001b[0m\u001b[1;33m.\u001b[0m\u001b[0mopen\u001b[0m\u001b[1;33m(\u001b[0m\u001b[0mfilename\u001b[0m\u001b[1;33m,\u001b[0m \u001b[1;34m\"rb\"\u001b[0m\u001b[1;33m)\u001b[0m\u001b[1;33m\u001b[0m\u001b[1;33m\u001b[0m\u001b[0m\n\u001b[0m\u001b[0;32m   2969\u001b[0m         \u001b[0mexclusive_fp\u001b[0m \u001b[1;33m=\u001b[0m \u001b[1;32mTrue\u001b[0m\u001b[1;33m\u001b[0m\u001b[1;33m\u001b[0m\u001b[0m\n\u001b[0;32m   2970\u001b[0m \u001b[1;33m\u001b[0m\u001b[0m\n",
      "\u001b[1;31mFileNotFoundError\u001b[0m: [Errno 2] No such file or directory: 'D:\\\\Dementia_Data_Preprocessing\\\\test\\\\test.jpg'"
     ]
    }
   ],
   "source": [
    "# importing Image module from PIL package  \n",
    "from PIL import Image \n",
    "  \n",
    "# creating image object \n",
    "image = Image.open(image_path) \n",
    "\n",
    "angle = angle*np.pi/180\n",
    "\n",
    "if keep_aspect_ratio:\n",
    "    ar = float(image_shape[0]) / float(image_shape[1])\n",
    "    quad = get_quad(angle, (shiftx, shifty), scale, aspect_ratio=ar)\n",
    "else:\n",
    "    quad = get_quad(angle, (shiftx, shifty), scale, aspect_ratio=1.0)\n",
    "    \n",
    "\n",
    "img = transform_image(image, (image_shape[1],image_shape[0]), quad)\n",
    "\n",
    "img.show()"
   ]
  },
  {
   "cell_type": "code",
   "execution_count": 4,
   "id": "2464021c",
   "metadata": {},
   "outputs": [
    {
     "name": "stdout",
     "output_type": "stream",
     "text": [
      "[0.7853981633974483, 1.5707963267948966, 2.356194490192345, 3.141592653589793, -2.356194490192345, -1.5707963267948966, -0.7853981633974483]\n"
     ]
    }
   ],
   "source": [
    "import numpy as np\n",
    "lis = [45,90,135,180,-135,-90,-45]\n",
    "new_lis = []\n",
    "for i in lis:\n",
    "    \n",
    "    i = i*np.pi/180\n",
    "    new_lis.append(i)\n",
    "\n",
    "    \n",
    "print(new_lis)"
   ]
  },
  {
   "cell_type": "code",
   "execution_count": null,
   "id": "39cc23b1",
   "metadata": {},
   "outputs": [],
   "source": []
  }
 ],
 "metadata": {
  "kernelspec": {
   "display_name": "Python 3 (ipykernel)",
   "language": "python",
   "name": "python3"
  },
  "language_info": {
   "codemirror_mode": {
    "name": "ipython",
    "version": 3
   },
   "file_extension": ".py",
   "mimetype": "text/x-python",
   "name": "python",
   "nbconvert_exporter": "python",
   "pygments_lexer": "ipython3",
   "version": "3.8.12"
  }
 },
 "nbformat": 4,
 "nbformat_minor": 5
}
