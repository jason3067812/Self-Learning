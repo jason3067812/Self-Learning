{
 "cells": [
  {
   "cell_type": "markdown",
   "metadata": {},
   "source": [
    "# 比較資料夾"
   ]
  },
  {
   "cell_type": "code",
   "execution_count": null,
   "metadata": {
    "collapsed": true
   },
   "outputs": [],
   "source": [
    "import cv2\n",
    "import os\n",
    "import random\n",
    "import numpy as np\n",
    "\n",
    "# 修改路徑\n",
    "a=\"D:\\\\OCR\\\\area\\\\images\"\n",
    "b=\"D:\\\\OCR\\\\area\\\\xml\"\n",
    "\n",
    "lista=[]\n",
    "listb=[]\n",
    "\n",
    "for filename in os.listdir(a):\n",
    "    lista.append(filename[0:19])\n",
    "\n",
    "for j in os.listdir(b):\n",
    "    listb.append(j[0:19])\n",
    "    \n",
    "    \n",
    "c=len(lista)\n",
    "\n",
    "for i in range(c):\n",
    "    if lista[i]!=listb[i]:\n",
    "        print(\"find error:\",lista[i],listb[i])\n",
    "    else:\n",
    "        print(\"no error!\")\n",
    "    \n",
    "    \n"
   ]
  },
  {
   "cell_type": "code",
   "execution_count": null,
   "metadata": {
    "collapsed": true
   },
   "outputs": [],
   "source": [
    "import cv2\n",
    "import os\n",
    "import random\n",
    "import numpy as np\n",
    "import shutil\n",
    "\n",
    "# 修改路徑\n",
    "a=\"D:\\\\OCR\\\\area\\\\images\"\n",
    "b=\"D:\\\\OCR\\\\area\\\\xml\"\n",
    "\n",
    "\n",
    "\n",
    "for aa in os.listdir(a):\n",
    "\n",
    "    scole=0\n",
    "    for bb in os.listdir(b):\n",
    "        if aa[0:19]==bb[0:19]:\n",
    "            scole=scole+1\n",
    "    if scole==0:\n",
    "        print(\"delete:\",aa)\n",
    "        os.remove(a+\"\\\\\"+aa)\n",
    "    else:\n",
    "        continue\n",
    "        \n",
    "            \n",
    "    \n",
    "    \n"
   ]
  },
  {
   "cell_type": "code",
   "execution_count": null,
   "metadata": {
    "collapsed": true
   },
   "outputs": [],
   "source": [
    "for i in range(10):\n",
    "    print(i)"
   ]
  },
  {
   "cell_type": "markdown",
   "metadata": {},
   "source": [
    "# 分割圖片資料夾"
   ]
  },
  {
   "cell_type": "code",
   "execution_count": null,
   "metadata": {
    "collapsed": true
   },
   "outputs": [],
   "source": [
    "import cv2\n",
    "import os\n",
    "import random\n",
    "import numpy as np\n",
    "\n",
    "# tain\n",
    "directory_name=\"C:\\\\Users\\\\jason\\\\yolov2\\\\tests\\\\dataset\\\\OCR\\\\img\"\n",
    "new_directory_name='C:\\\\Users\\\\jason\\\\yolov2\\\\tests\\\\dataset\\\\OCR\\\\train\\\\img'\n",
    "\n",
    "for filename in os.listdir(directory_name):\n",
    "    \n",
    "    if filename==\"NG-007370-(02-22-35)-1T134-1031-(1T134-10n1).jpg\":\n",
    "        break\n",
    " \n",
    "    \n",
    "    img = cv2.imread(directory_name + \"/\" + filename)\n",
    "    cv2.imwrite(new_directory_name + \"/\" + filename, img)\n",
    "       \n",
    "   "
   ]
  },
  {
   "cell_type": "code",
   "execution_count": null,
   "metadata": {
    "collapsed": true
   },
   "outputs": [],
   "source": [
    "import cv2\n",
    "import os\n",
    "import random\n",
    "import numpy as np\n",
    "\n",
    "# tain\n",
    "first_directory_name=\"C:\\\\Users\\\\jason\\\\yolov2\\\\tests\\\\dataset\\\\OCR\\\\img\"\n",
    "second_directory_name='C:\\\\Users\\\\jason\\\\yolov2\\\\tests\\\\dataset\\\\OCR\\\\train\\\\img'\n",
    "\n",
    "list1=[]\n",
    "for aa in os.listdir(first_directory_name):\n",
    "    for bb in os.listdir(second_directory_name):\n",
    "        \n",
    "        if aa==bb:\n",
    "            print()\n",
    "            \n",
    "           \n",
    "    \n",
    "    \n",
    "    img = cv2.imread(directory_name + \"/\" + filename)\n",
    "    cv2.imwrite(new_directory_name + \"/\" + filename, img)\n",
    "       \n",
    "   "
   ]
  },
  {
   "cell_type": "markdown",
   "metadata": {},
   "source": [
    "## 更改檔名"
   ]
  },
  {
   "cell_type": "code",
   "execution_count": null,
   "metadata": {
    "collapsed": true
   },
   "outputs": [],
   "source": [
    "# 改檔名\n",
    "\n",
    "import os\n",
    "path='D:\\\\OCR\\\\id\\\\data_HDR\\\\hdr_xml\\\\hdr1_val' #這就是欲進行檔名更改的檔案路徑，路徑的斜線是為/，要留意下！\n",
    "files=os.listdir(path)\n",
    "print('files')    #印出讀取到的檔名稱，用來確認自己是不是真的有讀到\n"
   ]
  },
  {
   "cell_type": "code",
   "execution_count": null,
   "metadata": {
    "collapsed": true
   },
   "outputs": [],
   "source": [
    "n=0 #設定初始值\n",
    "for i in files: #因為資料夾裡面的檔案都要重新更換名稱\n",
    "    oldname=path+\"\\\\\"+files[n] #指出檔案現在的路徑名稱，[n]表示第n個檔案\n",
    "    newname=path+'\\\\'+\"hdr1_\"+files[n] #在本案例中的命名規則為：年份+ - + 次序，最後一個.wav表示該檔案的型別\n",
    "    os.rename(oldname,newname)\n",
    "    print(oldname+'>>>'+newname) #印出原名與更名後的新名，可以進一步的確認每個檔案的新舊對應\n",
    "    n=n+1 #當有不止一個檔案的時候，依次對每一個檔案進行上面的流程，直到更換完畢就會結束"
   ]
  }
 ],
 "metadata": {
  "kernelspec": {
   "display_name": "Python 3",
   "language": "python",
   "name": "python3"
  },
  "language_info": {
   "codemirror_mode": {
    "name": "ipython",
    "version": 3
   },
   "file_extension": ".py",
   "mimetype": "text/x-python",
   "name": "python",
   "nbconvert_exporter": "python",
   "pygments_lexer": "ipython3",
   "version": "3.6.12"
  }
 },
 "nbformat": 4,
 "nbformat_minor": 2
}
