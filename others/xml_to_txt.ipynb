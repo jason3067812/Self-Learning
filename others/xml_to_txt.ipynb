{
 "cells": [
  {
   "cell_type": "markdown",
   "metadata": {},
   "source": [
    "## train data"
   ]
  },
  {
   "cell_type": "code",
   "execution_count": null,
   "metadata": {
    "collapsed": true
   },
   "outputs": [],
   "source": [
    "import os\n",
    "import sys\n",
    "import xml.etree.ElementTree as ET\n",
    "import glob\n",
    "\n",
    "def xml_to_txt(indir,outdir):\n",
    "\n",
    "    os.chdir(indir)\n",
    "    annotations = os.listdir('.')\n",
    "    annotations = glob.glob('*.xml')\n",
    "    #annotations = glob.glob(str(annotations)+'*.xml')\n",
    "    #print(annotations)\n",
    "    for i, file in enumerate(annotations):\n",
    "\n",
    "        file_save = file.split('.')[0]+'.txt'\n",
    "        # file_txt=os.path.join(outdir,file_save)\n",
    "        file_txt = outdir+\"\\\\\"+file_save\n",
    "        # print(file_save)\n",
    "        f_w = open(outdir, 'a')\n",
    "\n",
    "        # actual parsing\n",
    "        in_file = open(file, encoding=\"utf-8\")\n",
    "        tree=ET.parse(in_file)\n",
    "        root = tree.getroot()\n",
    "        filename = root.find('filename').text  #這裡是xml的根，獲取filename那一欄\n",
    "        for obj in root.iter('object'):\n",
    "                current = list()\n",
    "                name = obj.find('name').text   #這裡獲取多個框的名字，底下是獲取每個框的位置\n",
    "                \n",
    "                if name.isdigit()==True:\n",
    "                    xmlbox = obj.find('bndbox')\n",
    "                    xn = xmlbox.find('xmin').text   \n",
    "                    xx = xmlbox.find('xmax').text\n",
    "                    yn = xmlbox.find('ymin').text\n",
    "                    yx = xmlbox.find('ymax').text\n",
    "                    #print xn\n",
    "                    f_w.write('D:/lab70935/dan/train/' +filename +', '+xn+', '+yn+', '+xx+', '+yx+', '+name+',')\n",
    "                    f_w.write('train'+'\\n')\n",
    "                else:\n",
    "                    continue\n",
    "\n",
    "                    \n",
    "\n",
    "indir='D:\\\\lab70935\\\\dan\\\\xml_val'   #xml目錄\n",
    "outdir='D:\\\\lab70935\\\\dan\\\\source_number.txt'  #txt目錄\n",
    "\n",
    "xml_to_txt(indir,outdir)\n",
    "print(\"finish!\")"
   ]
  },
  {
   "cell_type": "markdown",
   "metadata": {
    "collapsed": true
   },
   "source": [
    "## test data"
   ]
  },
  {
   "cell_type": "code",
   "execution_count": null,
   "metadata": {
    "collapsed": true
   },
   "outputs": [],
   "source": [
    "import os\n",
    "import sys\n",
    "import xml.etree.ElementTree as ET\n",
    "import glob\n",
    "\n",
    "def xml_to_txt(indir,outdir):\n",
    "\n",
    "    os.chdir(indir)\n",
    "    annotations = os.listdir('.')\n",
    "    annotations = glob.glob('*.xml')\n",
    "    #annotations = glob.glob(str(annotations)+'*.xml')\n",
    "    #print(annotations)\n",
    "    for i, file in enumerate(annotations):\n",
    "\n",
    "        file_save = file.split('.')[0]+'.txt'\n",
    "        # file_txt=os.path.join(outdir,file_save)\n",
    "        file_txt = outdir+\"\\\\\"+file_save\n",
    "        # print(file_save)\n",
    "        f_w = open(outdir, 'a')\n",
    "\n",
    "        # actual parsing\n",
    "        in_file = open(file, encoding=\"utf-8\")\n",
    "        tree=ET.parse(in_file)\n",
    "        root = tree.getroot()\n",
    "        filename = root.find('filename').text  #這裡是xml的根，獲取filename那一欄\n",
    "        for obj in root.iter('object'):\n",
    "                current = list()\n",
    "                name = obj.find('name').text   #這裡獲取多個框的名字，底下是獲取每個框的位置\n",
    "\n",
    "                xmlbox = obj.find('bndbox')\n",
    "                xn = xmlbox.find('xmin').text   \n",
    "                xx = xmlbox.find('xmax').text\n",
    "                yn = xmlbox.find('ymin').text\n",
    "                yx = xmlbox.find('ymax').text\n",
    "                #print xn\n",
    "                f_w.write('D:/lab70935/dan/target_steel_coil/test750_img/' +filename +', '+xn+', '+yn+', '+xx+', '+yx+', '+name+',')\n",
    "                f_w.write('test'+'\\n')\n",
    "\n",
    "indir='D:\\\\lab70935\\\\dan\\\\target_steel_coil\\\\test750_xml'   #xml目錄\n",
    "outdir='D:\\\\lab70935\\\\dan\\\\source_number.txt'  #txt目錄\n",
    "\n",
    "xml_to_txt(indir,outdir)"
   ]
  },
  {
   "cell_type": "markdown",
   "metadata": {},
   "source": [
    "### 對比yolov3 xml 和 ans xml"
   ]
  },
  {
   "cell_type": "code",
   "execution_count": 5,
   "metadata": {
    "scrolled": true
   },
   "outputs": [
    {
     "name": "stdout",
     "output_type": "stream",
     "text": [
      "img_24\n",
      "answer: ['2', 'E', 'F', '3', '4', '3', '0']\n",
      "yolov3: ['2', 'E', 'F', '3', '4', '3', '0', '1']\n",
      "img_909\n",
      "answer: ['2', 'E', 'D', '1', '4', '0', '2', '2', 'F']\n",
      "yolov3: ['2', 'E', 'D', '4', '1', '4', '0', '2', '2', 'F']\n",
      "img_1650\n",
      "answer: ['3', 'J', 'G', '2', '8', '1', '0', '3', '1', 'A']\n",
      "yolov3: ['3', 'J', 'H', '0', '2', '8', '9', '1', '0', '3', '1', 'A']\n",
      "img_1727\n",
      "answer: ['6', '7', '1', '0', '1', '2', 'K']\n",
      "yolov3: ['A', '6', '7', '1', '0', '1', '2', 'K']\n",
      "img_1901\n",
      "answer: ['6', 'P', 'T', '0', '7', '4', '0', '2', '2', 'A']\n",
      "yolov3: ['1', '6', 'P', '1', '0', '7', '4', '0', '2', '2', 'A']\n",
      "img_2019\n",
      "answer: ['6', 'P', 'T', '0', '7', '4', '0', '2', '3', 'K']\n",
      "yolov3: ['1', '6', 'P', '7', '0', '7', '4', '0', '2', '3', 'K']\n",
      "total count: 2500\n",
      "total error: 939\n",
      "final accuracy:62.44%\n"
     ]
    }
   ],
   "source": [
    "import os\n",
    "import sys\n",
    "import xml.etree.ElementTree as ET\n",
    "import glob\n",
    "\n",
    "\n",
    "# 修改路徑\n",
    "yolov3_predict_path=\"D:\\\\OCR\\\\id\\\\yolov3_result\\\\2500xml\"\n",
    "test_answer_path=\"D:\\\\OCR\\\\id\\\\final_test\\\\test_xml\"\n",
    "\n",
    "count=0\n",
    "listall=[]\n",
    "error=0\n",
    "error_list=[]\n",
    "for file in os.listdir(test_answer_path):\n",
    "    \n",
    "    count=count+1\n",
    "    \n",
    "    # 1\n",
    "    in_file = open(test_answer_path+\"\\\\\"+file, encoding=\"utf-8\")\n",
    "    tree=ET.parse(in_file)\n",
    "    root = tree.getroot()\n",
    "    filename = root.find('filename').text  #這裡是xml的根，獲取filename那一欄    \n",
    "    ans = []\n",
    "    xnmin=[]\n",
    "    for obj in root.iter('object'):\n",
    "        current = list()\n",
    "        name = obj.find('name').text  # 這裡獲取多個框的名字，底下是獲取每個框的位置\n",
    "        ans.append(name)\n",
    "        xmlbox = obj.find('bndbox')\n",
    "        xn = xmlbox.find('xmin').text\n",
    "        xnmin.append(int(xn))\n",
    "    n1, n2 = (list(t) for t in zip(*sorted(zip(xnmin, ans))))\n",
    "    #print(f\"img_{count}\")\n",
    "    #print(\"answer:\",n2)  \n",
    "    \n",
    "    #2\n",
    "    in_file2 = open(yolov3_predict_path+\"\\\\\"+file, encoding=\"utf-8\")\n",
    "    tree2=ET.parse(in_file2)\n",
    "    root2 = tree2.getroot()\n",
    "    filename2 = root2.find('filename').text  #這裡是xml的根，獲取filename那一欄\n",
    "    ans2 = []\n",
    "    xnmin2=[]\n",
    "    for obj2 in root2.iter('object'):\n",
    "        current2 = list()\n",
    "        name2 = obj2.find('name').text  # 這裡獲取多個框的名字，底下是獲取每個框的位置\n",
    "        ans2.append(name2)\n",
    "        xmlbox2 = obj2.find('bndbox')\n",
    "        xn2 = xmlbox2.find('xmin').text\n",
    "        xnmin2.append(int(xn2))\n",
    "    u1, u2 = (list(t) for t in zip(*sorted(zip(xnmin2, ans2))))\n",
    "    #print(\"yolov3:\",u2)\n",
    "    #print(\" \")\n",
    "    \n",
    "    \n",
    "    if n2!=u2:\n",
    "        error=error+1\n",
    "        qq=str(f\"img_{count}\")\n",
    "        error_list.append(qq)\n",
    "        \n",
    "    if len(u2)>len(n2):\n",
    "        print(f\"img_{count}\")\n",
    "        print(\"answer:\",n2)\n",
    "        print(\"yolov3:\",u2)\n",
    "        \n",
    "\n",
    "print(\"total count:\",count)        \n",
    "correct=count-error\n",
    "acc=100*(correct/count)\n",
    "\n",
    "print(\"total error:\",error)\n",
    "\n",
    "print(f\"final accuracy:{acc}%\")\n",
    "        "
   ]
  },
  {
   "cell_type": "markdown",
   "metadata": {},
   "source": [
    "## 測試區"
   ]
  },
  {
   "cell_type": "code",
   "execution_count": null,
   "metadata": {
    "collapsed": true
   },
   "outputs": [],
   "source": [
    "import os\n",
    "import sys\n",
    "import xml.etree.ElementTree as ET\n",
    "import glob\n",
    "\n",
    "def xml_to_txt(indir):\n",
    "\n",
    "    os.chdir(indir)\n",
    "    annotations = os.listdir('.')\n",
    "    annotations = glob.glob('*.xml')\n",
    "    #annotations = glob.glob(str(annotations)+'*.xml')\n",
    "    #print(annotations)\n",
    "    \n",
    "    for i, file in enumerate(annotations):\n",
    "        lista=[]\n",
    "\n",
    "        # actual parsing\n",
    "        in_file = open(file, encoding=\"utf-8\")\n",
    "        tree=ET.parse(in_file)\n",
    "        root = tree.getroot()\n",
    "        filename = root.find('filename').text  #這裡是xml的根，獲取filename那一欄\n",
    "        for obj in root.iter('object'):\n",
    "                current = list()\n",
    "                name = obj.find('name').text   #這裡獲取多個框的名字，底下是獲取每個框的位置\n",
    "                lista.append(name)\n",
    "                \n",
    "        print(lista)\n",
    "                \n",
    "\n",
    "                \n",
    "indir='D:\\\\OCR\\\\id\\\\test'   #xml目錄\n",
    "xml_to_txt(indir)"
   ]
  },
  {
   "cell_type": "code",
   "execution_count": 2,
   "metadata": {
    "scrolled": true
   },
   "outputs": [
    {
     "name": "stdout",
     "output_type": "stream",
     "text": [
      "error img:\n",
      "['img_3', 'img_5', 'img_6', 'img_16', 'img_17', 'img_24', 'img_26', 'img_27', 'img_32', 'img_33', 'img_37', 'img_46', 'img_54', 'img_56', 'img_57', 'img_58', 'img_59', 'img_63', 'img_75', 'img_80', 'img_81', 'img_82', 'img_86', 'img_88', 'img_90', 'img_91', 'img_92', 'img_93', 'img_94', 'img_95', 'img_96', 'img_97', 'img_98', 'img_102', 'img_104', 'img_105', 'img_106', 'img_110', 'img_111', 'img_116', 'img_118', 'img_120', 'img_125', 'img_127', 'img_128', 'img_129', 'img_130', 'img_132', 'img_133', 'img_134', 'img_135', 'img_136', 'img_137', 'img_138', 'img_142', 'img_143', 'img_145', 'img_146', 'img_147', 'img_149', 'img_150', 'img_151', 'img_152', 'img_153', 'img_154', 'img_156', 'img_159', 'img_162', 'img_164', 'img_170', 'img_178', 'img_184', 'img_186', 'img_187', 'img_188', 'img_189', 'img_190', 'img_193', 'img_194', 'img_196', 'img_198', 'img_201', 'img_203', 'img_204', 'img_205', 'img_209', 'img_210', 'img_215', 'img_216', 'img_217', 'img_218', 'img_226', 'img_231', 'img_239', 'img_244', 'img_246', 'img_248', 'img_252', 'img_253', 'img_256', 'img_257', 'img_258', 'img_259', 'img_260', 'img_261', 'img_262', 'img_263', 'img_265', 'img_267', 'img_268', 'img_272', 'img_281', 'img_282', 'img_293', 'img_296', 'img_300', 'img_301', 'img_303', 'img_307', 'img_309', 'img_319', 'img_327', 'img_329', 'img_331', 'img_332', 'img_334', 'img_341', 'img_345', 'img_346', 'img_347', 'img_349', 'img_352', 'img_353', 'img_356', 'img_357', 'img_360', 'img_361', 'img_366', 'img_369', 'img_371', 'img_372', 'img_373', 'img_374', 'img_378', 'img_379', 'img_380', 'img_386', 'img_389', 'img_392', 'img_393', 'img_394', 'img_395', 'img_398', 'img_400', 'img_402', 'img_403', 'img_409', 'img_410', 'img_411', 'img_417', 'img_418', 'img_419', 'img_429', 'img_432', 'img_433', 'img_434', 'img_436', 'img_440', 'img_445', 'img_446', 'img_447', 'img_452', 'img_454', 'img_468', 'img_479', 'img_480', 'img_482', 'img_484', 'img_485', 'img_486', 'img_487', 'img_489', 'img_491', 'img_492', 'img_493', 'img_494', 'img_497', 'img_498', 'img_499', 'img_501', 'img_502', 'img_507', 'img_509', 'img_510', 'img_526', 'img_531', 'img_534', 'img_537', 'img_538', 'img_539', 'img_541', 'img_542', 'img_543', 'img_548', 'img_550', 'img_551', 'img_552', 'img_555', 'img_563', 'img_567', 'img_574', 'img_575', 'img_576', 'img_584', 'img_585', 'img_587', 'img_591', 'img_592', 'img_596', 'img_599', 'img_600', 'img_601', 'img_604', 'img_605', 'img_607', 'img_608', 'img_610', 'img_611', 'img_612', 'img_616', 'img_617', 'img_618', 'img_621', 'img_623', 'img_624', 'img_625', 'img_627', 'img_628', 'img_629', 'img_630', 'img_631', 'img_633', 'img_634', 'img_635', 'img_637', 'img_639', 'img_640', 'img_643', 'img_644', 'img_647', 'img_658', 'img_661', 'img_662', 'img_663', 'img_666', 'img_670', 'img_673', 'img_680', 'img_682', 'img_684', 'img_685', 'img_686', 'img_687', 'img_689', 'img_691', 'img_694', 'img_697', 'img_698', 'img_699', 'img_700', 'img_701', 'img_703', 'img_704', 'img_706', 'img_707', 'img_709', 'img_710', 'img_711', 'img_712', 'img_713', 'img_714', 'img_719', 'img_724', 'img_726', 'img_727', 'img_730', 'img_731', 'img_733', 'img_734', 'img_738', 'img_739', 'img_740', 'img_742', 'img_745', 'img_746', 'img_747', 'img_749', 'img_753', 'img_757', 'img_758', 'img_759', 'img_761', 'img_802', 'img_811', 'img_812', 'img_813', 'img_815', 'img_816', 'img_817', 'img_819', 'img_820', 'img_821', 'img_851', 'img_863', 'img_865', 'img_866', 'img_874', 'img_886', 'img_896', 'img_898', 'img_904', 'img_909', 'img_928', 'img_930', 'img_934', 'img_939', 'img_941', 'img_946', 'img_947', 'img_948', 'img_949', 'img_962', 'img_966', 'img_968', 'img_969', 'img_972', 'img_977', 'img_981', 'img_984', 'img_989', 'img_991', 'img_992', 'img_993', 'img_998', 'img_1017', 'img_1038', 'img_1040', 'img_1041', 'img_1043', 'img_1045', 'img_1046', 'img_1048', 'img_1049', 'img_1051', 'img_1052', 'img_1053', 'img_1055', 'img_1056', 'img_1059', 'img_1060', 'img_1062', 'img_1064', 'img_1065', 'img_1067', 'img_1068', 'img_1069', 'img_1070', 'img_1072', 'img_1074', 'img_1075', 'img_1078', 'img_1079', 'img_1080', 'img_1082', 'img_1083', 'img_1086', 'img_1088', 'img_1089', 'img_1090', 'img_1091', 'img_1093', 'img_1094', 'img_1095', 'img_1097', 'img_1098', 'img_1099', 'img_1100', 'img_1101', 'img_1103', 'img_1105', 'img_1107', 'img_1108', 'img_1109', 'img_1110', 'img_1111', 'img_1112', 'img_1113', 'img_1116', 'img_1117', 'img_1118', 'img_1120', 'img_1121', 'img_1122', 'img_1123', 'img_1125', 'img_1126', 'img_1127', 'img_1128', 'img_1133', 'img_1145', 'img_1168', 'img_1171', 'img_1173', 'img_1175', 'img_1182', 'img_1191', 'img_1196', 'img_1202', 'img_1204', 'img_1206', 'img_1207', 'img_1214', 'img_1220', 'img_1221', 'img_1234', 'img_1237', 'img_1240', 'img_1241', 'img_1244', 'img_1245', 'img_1249', 'img_1252', 'img_1254', 'img_1256', 'img_1259', 'img_1260', 'img_1264', 'img_1266', 'img_1267', 'img_1270', 'img_1271', 'img_1281', 'img_1284', 'img_1287', 'img_1288', 'img_1289', 'img_1295', 'img_1299', 'img_1301', 'img_1305', 'img_1325', 'img_1326', 'img_1328', 'img_1333', 'img_1334', 'img_1335', 'img_1337', 'img_1355', 'img_1357', 'img_1358', 'img_1359', 'img_1360', 'img_1361', 'img_1362', 'img_1363', 'img_1364', 'img_1365', 'img_1366', 'img_1367', 'img_1368', 'img_1369', 'img_1370', 'img_1371', 'img_1379', 'img_1380', 'img_1382', 'img_1384', 'img_1387', 'img_1388', 'img_1390', 'img_1392', 'img_1394', 'img_1395', 'img_1396', 'img_1397', 'img_1398', 'img_1400', 'img_1402', 'img_1403', 'img_1405', 'img_1411', 'img_1412', 'img_1415', 'img_1416', 'img_1419', 'img_1420', 'img_1421', 'img_1422', 'img_1423', 'img_1425', 'img_1427', 'img_1430', 'img_1433', 'img_1434', 'img_1435', 'img_1441', 'img_1447', 'img_1448', 'img_1451', 'img_1452', 'img_1454', 'img_1456', 'img_1458', 'img_1462', 'img_1467', 'img_1470', 'img_1471', 'img_1472', 'img_1473', 'img_1474', 'img_1475', 'img_1476', 'img_1478', 'img_1479', 'img_1483', 'img_1484', 'img_1485', 'img_1486', 'img_1492', 'img_1493', 'img_1495', 'img_1496', 'img_1501', 'img_1504', 'img_1510', 'img_1512', 'img_1514', 'img_1517', 'img_1518', 'img_1520', 'img_1526', 'img_1541', 'img_1544', 'img_1577', 'img_1580', 'img_1581', 'img_1582', 'img_1584', 'img_1585', 'img_1587', 'img_1588', 'img_1591', 'img_1594', 'img_1595', 'img_1596', 'img_1598', 'img_1599', 'img_1600', 'img_1601', 'img_1602', 'img_1603', 'img_1604', 'img_1606', 'img_1607', 'img_1608', 'img_1609', 'img_1611', 'img_1613', 'img_1614', 'img_1618', 'img_1619', 'img_1620', 'img_1621', 'img_1622', 'img_1632', 'img_1635', 'img_1637', 'img_1638', 'img_1639', 'img_1641', 'img_1643', 'img_1644', 'img_1645', 'img_1646', 'img_1649', 'img_1650', 'img_1652', 'img_1653', 'img_1654', 'img_1655', 'img_1657', 'img_1658', 'img_1661', 'img_1667', 'img_1671', 'img_1673', 'img_1674', 'img_1678', 'img_1679', 'img_1682', 'img_1683', 'img_1687', 'img_1688', 'img_1689', 'img_1690', 'img_1691', 'img_1692', 'img_1694', 'img_1696', 'img_1699', 'img_1700', 'img_1713', 'img_1714', 'img_1718', 'img_1719', 'img_1724', 'img_1725', 'img_1726', 'img_1727', 'img_1728', 'img_1729', 'img_1751', 'img_1752', 'img_1753', 'img_1756', 'img_1758', 'img_1760', 'img_1761', 'img_1762', 'img_1768', 'img_1769', 'img_1770', 'img_1772', 'img_1773', 'img_1774', 'img_1775', 'img_1776', 'img_1783', 'img_1784', 'img_1786', 'img_1788', 'img_1790', 'img_1795', 'img_1796', 'img_1797', 'img_1798', 'img_1799', 'img_1801', 'img_1803', 'img_1805', 'img_1806', 'img_1807', 'img_1810', 'img_1811', 'img_1812', 'img_1813', 'img_1814', 'img_1816', 'img_1817', 'img_1818', 'img_1819', 'img_1820', 'img_1821', 'img_1822', 'img_1823', 'img_1824', 'img_1825', 'img_1826', 'img_1828', 'img_1830', 'img_1832', 'img_1835', 'img_1837', 'img_1838', 'img_1844', 'img_1845', 'img_1846', 'img_1850', 'img_1851', 'img_1853', 'img_1858', 'img_1860', 'img_1861', 'img_1862', 'img_1863', 'img_1865', 'img_1867', 'img_1868', 'img_1870', 'img_1871', 'img_1872', 'img_1873', 'img_1878', 'img_1882', 'img_1886', 'img_1887', 'img_1891', 'img_1896', 'img_1897', 'img_1899', 'img_1901', 'img_1906', 'img_1909', 'img_1910', 'img_1912', 'img_1916', 'img_1917', 'img_1921', 'img_1927', 'img_1931', 'img_1933', 'img_1943', 'img_1950', 'img_1951', 'img_1952', 'img_1972', 'img_1981', 'img_1983', 'img_1984', 'img_1986', 'img_1987', 'img_1988', 'img_1992', 'img_1993', 'img_1994', 'img_1996', 'img_1997', 'img_1998', 'img_2001', 'img_2003', 'img_2007', 'img_2008', 'img_2010', 'img_2019', 'img_2023', 'img_2027', 'img_2035', 'img_2037', 'img_2038', 'img_2040', 'img_2042', 'img_2044', 'img_2046', 'img_2047', 'img_2048', 'img_2050', 'img_2052', 'img_2055', 'img_2057', 'img_2062', 'img_2063', 'img_2064', 'img_2065', 'img_2066', 'img_2068', 'img_2069', 'img_2070', 'img_2072', 'img_2076', 'img_2077', 'img_2079', 'img_2080', 'img_2082', 'img_2083', 'img_2084', 'img_2085', 'img_2091', 'img_2095', 'img_2098', 'img_2100', 'img_2101', 'img_2102', 'img_2103', 'img_2104', 'img_2105', 'img_2107', 'img_2108', 'img_2109', 'img_2110', 'img_2111', 'img_2112', 'img_2113', 'img_2114', 'img_2115', 'img_2117', 'img_2118', 'img_2121', 'img_2122', 'img_2123', 'img_2124', 'img_2126', 'img_2130', 'img_2131', 'img_2132', 'img_2134', 'img_2135', 'img_2136', 'img_2139', 'img_2143', 'img_2147', 'img_2148', 'img_2150', 'img_2151', 'img_2152', 'img_2153', 'img_2154', 'img_2156', 'img_2157', 'img_2158', 'img_2159', 'img_2161', 'img_2163', 'img_2165', 'img_2166', 'img_2167', 'img_2168', 'img_2169', 'img_2170', 'img_2171', 'img_2172', 'img_2173', 'img_2174', 'img_2176', 'img_2180', 'img_2185', 'img_2186', 'img_2187', 'img_2191', 'img_2193', 'img_2196', 'img_2198', 'img_2199', 'img_2200', 'img_2201', 'img_2205', 'img_2208', 'img_2211', 'img_2213', 'img_2215', 'img_2216', 'img_2217', 'img_2218', 'img_2221', 'img_2222', 'img_2227', 'img_2228', 'img_2229', 'img_2230', 'img_2231', 'img_2235', 'img_2236', 'img_2237', 'img_2238', 'img_2239', 'img_2244', 'img_2246', 'img_2250', 'img_2251', 'img_2259', 'img_2260', 'img_2261', 'img_2262', 'img_2263', 'img_2264', 'img_2265', 'img_2266', 'img_2267', 'img_2268', 'img_2269', 'img_2270', 'img_2271', 'img_2272', 'img_2273', 'img_2274', 'img_2277', 'img_2278', 'img_2279', 'img_2281', 'img_2282', 'img_2283', 'img_2285', 'img_2287', 'img_2289', 'img_2290', 'img_2291', 'img_2296', 'img_2297', 'img_2298', 'img_2299', 'img_2300', 'img_2311', 'img_2312', 'img_2322', 'img_2323', 'img_2324', 'img_2326', 'img_2327', 'img_2335', 'img_2336', 'img_2342', 'img_2351', 'img_2353', 'img_2354', 'img_2355', 'img_2360', 'img_2364', 'img_2365', 'img_2368', 'img_2369', 'img_2370', 'img_2374', 'img_2378', 'img_2387', 'img_2388', 'img_2391', 'img_2412', 'img_2426', 'img_2435', 'img_2438', 'img_2439', 'img_2440', 'img_2441', 'img_2442', 'img_2444', 'img_2445', 'img_2446', 'img_2458', 'img_2464', 'img_2470', 'img_2471', 'img_2479', 'img_2482', 'img_2483', 'img_2485', 'img_2486', 'img_2489', 'img_2491', 'img_2492', 'img_2496']\n"
     ]
    }
   ],
   "source": [
    "\n",
    "\n",
    "print(\"error img:\")\n",
    "print(error_list)"
   ]
  },
  {
   "cell_type": "code",
   "execution_count": null,
   "metadata": {
    "collapsed": true
   },
   "outputs": [],
   "source": []
  }
 ],
 "metadata": {
  "kernelspec": {
   "display_name": "Python 3",
   "language": "python",
   "name": "python3"
  },
  "language_info": {
   "codemirror_mode": {
    "name": "ipython",
    "version": 3
   },
   "file_extension": ".py",
   "mimetype": "text/x-python",
   "name": "python",
   "nbconvert_exporter": "python",
   "pygments_lexer": "ipython3",
   "version": "3.6.12"
  }
 },
 "nbformat": 4,
 "nbformat_minor": 2
}
