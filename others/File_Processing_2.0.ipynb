{
 "cells": [
  {
   "cell_type": "markdown",
   "metadata": {},
   "source": [
    "## 比較兩資料夾檔名差異"
   ]
  },
  {
   "cell_type": "code",
   "execution_count": null,
   "metadata": {
    "collapsed": true
   },
   "outputs": [],
   "source": [
    "import os\n",
    "\n",
    "path1=r\"D:\\steel_final\\202011\\normal_img\"\n",
    "path2=r\"D:\\steel_final\\202011\\xml\"\n",
    "\n",
    "print(\"loading...\")\n",
    "\n",
    "lista=[]\n",
    "for i in os.listdir(path1):\n",
    "    a,b = os.path.splitext(i)\n",
    "    count=0\n",
    "    for j in os.listdir(path2):\n",
    "        c,d = os.path.splitext(j)\n",
    "        if a==c:\n",
    "            count=count+1   \n",
    "    if count==0:\n",
    "        lista.append(a)\n",
    "len_a=len(lista)\n",
    "\n",
    "print(\" \")\n",
    "print(f\"總共差{len_a}張\")  \n",
    "print(lista)"
   ]
  },
  {
   "cell_type": "markdown",
   "metadata": {},
   "source": [
    "## 將差異的檔案移到新的資料夾\n"
   ]
  },
  {
   "cell_type": "code",
   "execution_count": null,
   "metadata": {
    "collapsed": true
   },
   "outputs": [],
   "source": [
    "import os\n",
    "import shutil\n",
    "\n",
    "path1 = r\"D:\\steel_final\\202011\\normal_img\"\n",
    "path2 = r\"D:\\steel_final\\202011\\bad_img\"  #自己先創一個要移到的資料夾\n",
    "\n",
    "for k in lista:\n",
    "    img_name= k + \".bmp\"\n",
    "    #print(img_name)\n",
    "    path_name = path1 + \"\\\\\" +img_name\n",
    "    #print(path_name)\n",
    "    \n",
    "    shutil.move(path_name, path2) "
   ]
  },
  {
   "cell_type": "markdown",
   "metadata": {},
   "source": [
    "## 指定要分割張數"
   ]
  },
  {
   "cell_type": "code",
   "execution_count": null,
   "metadata": {
    "collapsed": true
   },
   "outputs": [],
   "source": [
    "import os, random, shutil\n",
    "\n",
    "img_fileDir = r\"C:\\Users\\User\\Desktop\\coil\\train\\images\"\n",
    "img_tarDir = r\"C:\\Users\\User\\Desktop\\coil\\500\\train_img\"\n",
    "xml_fileDir = r\"C:\\Users\\User\\Desktop\\coil\\train\\labels\"\n",
    "xml_tarDir = r\"C:\\Users\\User\\Desktop\\coil\\500\\train_xml\"\n",
    "\n",
    "\n",
    "pathDir = os.listdir(img_fileDir)\n",
    "#print(pathDir)\n",
    "sample = random.sample(pathDir, 500)\n",
    "#print(sample)\n",
    "\n",
    "for img_name in sample:\n",
    "    \n",
    "    a,b = os.path.splitext(img_name)\n",
    "    xml_name=a+\".xml\"\n",
    "\n",
    "    shutil.copyfile(img_fileDir+\"/\"+ img_name, img_tarDir+\"/\"+ img_name)\n",
    "    shutil.copyfile(xml_fileDir+\"/\"+ xml_name, xml_tarDir+\"/\"+ xml_name)"
   ]
  },
  {
   "cell_type": "markdown",
   "metadata": {},
   "source": [
    "## 指定要分割比例"
   ]
  },
  {
   "cell_type": "code",
   "execution_count": null,
   "metadata": {
    "collapsed": true
   },
   "outputs": [],
   "source": [
    "import os, random, shutil\n",
    "\n",
    "val_ratio = 2\n",
    "train_ratio = 8\n",
    "\n",
    "img_fileDir = r\"C:\\Users\\User\\Desktop\\coil\\500\\train_img\"\n",
    "img_tarDir = r\"C:\\Users\\User\\Desktop\\coil\\500\\val_img\"\n",
    "xml_fileDir = r\"C:\\Users\\User\\Desktop\\coil\\500\\train_xml\"\n",
    "xml_tarDir = r\"C:\\Users\\User\\Desktop\\coil\\500\\val_xml\"\n",
    "\n",
    "pathDir = os.listdir(img_fileDir)\n",
    "total_number = len(pathDir)\n",
    "\n",
    "val_number = (total_number *val_ratio) / (val_ratio + train_ratio)\n",
    "print(val_number)\n",
    "\n",
    "\n",
    "sample = random.sample(pathDir, int(val_number))\n",
    "\n",
    "for img_name in sample:\n",
    "    \n",
    "    a,b = os.path.splitext(img_name)\n",
    "    xml_name=a+\".xml\"\n",
    "    \n",
    "    \n",
    "    # 移動檔案\n",
    "    \n",
    "    shutil.move(img_fileDir+\"/\"+ img_name, img_tarDir) \n",
    "    shutil.move(xml_fileDir+\"/\"+ xml_name, xml_tarDir)"
   ]
  }
 ],
 "metadata": {
  "kernelspec": {
   "display_name": "Python 3",
   "language": "python",
   "name": "python3"
  },
  "language_info": {
   "codemirror_mode": {
    "name": "ipython",
    "version": 3
   },
   "file_extension": ".py",
   "mimetype": "text/x-python",
   "name": "python",
   "nbconvert_exporter": "python",
   "pygments_lexer": "ipython3",
   "version": "3.6.12"
  }
 },
 "nbformat": 4,
 "nbformat_minor": 2
}
