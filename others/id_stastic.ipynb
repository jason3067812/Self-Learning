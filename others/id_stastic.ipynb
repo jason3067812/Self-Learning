{
 "cells": [
  {
   "cell_type": "code",
   "execution_count": 30,
   "metadata": {},
   "outputs": [
    {
     "data": {
      "text/plain": [
       "['1', 'U', 'X', '8', '8', '6', '0', '1', '3', 'A']"
      ]
     },
     "execution_count": 30,
     "metadata": {},
     "output_type": "execute_result"
    }
   ],
   "source": [
    "import os\n",
    "import shutil\n",
    "import xml.etree.ElementTree as ET\n",
    "\n",
    "\n",
    "def get_xml_label(xml_path:str):\n",
    "           \n",
    "    in_file = open(xml_path, encoding=\"utf-8\")\n",
    "    tree = ET.parse(in_file)\n",
    "    root = tree.getroot()\n",
    "    filename = root.find('filename').text  # 這裡是xml的根，獲取filename那一欄\n",
    "\n",
    "    ans = []\n",
    "    xnmin=[]\n",
    "\n",
    "    for obj in root.iter('object'):\n",
    "        current = list()\n",
    "        name = obj.find('name').text  # 這裡獲取多個框的名字，底下是獲取每個框的位置\n",
    "        ans.append(name)\n",
    "        xmlbox = obj.find('bndbox')\n",
    "        xn = xmlbox.find('xmin').text\n",
    "        xnmin.append(int(xn))\n",
    "\n",
    "\n",
    "    xml_xmin, xml_ID = (list(t) for t in zip(*sorted(zip(xnmin, ans))))\n",
    "\n",
    "    return xml_ID\n",
    "\n",
    "\n",
    "get_xml_label(r\"D:\\steel_final\\2021_01_5534_padding\\xml\\2021_01_14_21_00_39.xml\")"
   ]
  },
  {
   "cell_type": "code",
   "execution_count": null,
   "metadata": {
    "collapsed": true
   },
   "outputs": [],
   "source": [
    "def error_ID_statistics(predict_ID, xml_ID):\n",
    "    \n",
    "    \n",
    "    ID_statistics = {\"0\":0, \"1\":0, \"2\":0, \"3\":0, \"4\":0, \"5\":0, \"6\":0, \"7\":0, \"8\":0, \"9\":0, \"A\":0, \"B\":0, \"C\":0, \"D\":0, \"E\":0, \"F\":0, \"G\":0, \"H\":0, \"I\":0, \"J\":0, \"K\":0,\n",
    "              \"L\":0, \"M\":0, \"N\":0, \"O\":0, \"P\":0, \"Q\":0, \"R\":0, \"S\":0, \"T\":0, \"U\":0, \"V\":0, \"W\":0, \"X\":0, \"Y\":0, \"Z\":0}\n",
    "    \n",
    "    \n",
    "    \n",
    "    \n",
    "    \n",
    "    \n",
    "    return ID_statistics\n",
    "\n",
    "\n",
    "error_ID_statistics(predict_ID, xml_ID)\n",
    "a=error_character_statistics()\n",
    "print(a)"
   ]
  },
  {
   "cell_type": "markdown",
   "metadata": {},
   "source": [
    "## test"
   ]
  },
  {
   "cell_type": "code",
   "execution_count": 26,
   "metadata": {},
   "outputs": [
    {
     "name": "stdout",
     "output_type": "stream",
     "text": [
      "start\n",
      "({'0': 0, '1': 0, '2': 2, '3': 0, '4': 1, '5': 0, '6': 1, '7': 0, '8': 0, '9': 1, 'A': 2, 'B': 0, 'C': 0, 'D': 0, 'E': 0, 'F': 0, 'G': 0, 'H': 0, 'I': 0, 'J': 1, 'K': 0, 'L': 0, 'M': 0, 'N': 0, 'O': 0, 'P': 0, 'Q': 0, 'R': 0, 'S': 2, 'T': 0, 'U': 0, 'V': 0, 'W': 0, 'X': 0, 'Y': 0, 'Z': 0}, {'0': 0, '1': 0, '2': 1, '3': 0, '4': 0, '5': 0, '6': 1, '7': 0, '8': 0, '9': 0, 'A': 0, 'B': 0, 'C': 0, 'D': 0, 'E': 0, 'F': 0, 'G': 0, 'H': 0, 'I': 0, 'J': 1, 'K': 0, 'L': 0, 'M': 0, 'N': 0, 'O': 0, 'P': 0, 'Q': 0, 'R': 0, 'S': 2, 'T': 0, 'U': 0, 'V': 0, 'W': 0, 'X': 0, 'Y': 0, 'Z': 0})\n"
     ]
    }
   ],
   "source": [
    "class Stastics:\n",
    "    \n",
    "    error_ID_number = {\"0\":0, \"1\":0, \"2\":0, \"3\":0, \"4\":0, \"5\":0, \"6\":0, \"7\":0, \"8\":0, \"9\":0, \"A\":0, \"B\":0, \"C\":0, \"D\":0, \"E\":0, \"F\":0, \"G\":0, \"H\":0, \"I\":0, \"J\":0, \"K\":0,\n",
    "              \"L\":0, \"M\":0, \"N\":0, \"O\":0, \"P\":0, \"Q\":0, \"R\":0, \"S\":0, \"T\":0, \"U\":0, \"V\":0, \"W\":0, \"X\":0, \"Y\":0, \"Z\":0}\n",
    "    \n",
    "    all_ID_number = {\"0\":0, \"1\":0, \"2\":0, \"3\":0, \"4\":0, \"5\":0, \"6\":0, \"7\":0, \"8\":0, \"9\":0, \"A\":0, \"B\":0, \"C\":0, \"D\":0, \"E\":0, \"F\":0, \"G\":0, \"H\":0, \"I\":0, \"J\":0, \"K\":0,\n",
    "              \"L\":0, \"M\":0, \"N\":0, \"O\":0, \"P\":0, \"Q\":0, \"R\":0, \"S\":0, \"T\":0, \"U\":0, \"V\":0, \"W\":0, \"X\":0, \"Y\":0, \"Z\":0}\n",
    "    \n",
    "    final_acc = {}\n",
    "    \n",
    "    \n",
    "    def __init__(self):\n",
    "        self.final_acc={\"0\":0, \"1\":0, \"2\":0, \"3\":0, \"4\":0, \"5\":0, \"6\":0, \"7\":0, \"8\":0, \"9\":0, \"A\":0, \"B\":0, \"C\":0, \"D\":0, \"E\":0, \"F\":0, \"G\":0, \"H\":0, \"I\":0, \"J\":0, \"K\":0,\n",
    "              \"L\":0, \"M\":0, \"N\":0, \"O\":0, \"P\":0, \"Q\":0, \"R\":0, \"S\":0, \"T\":0, \"U\":0, \"V\":0, \"W\":0, \"X\":0, \"Y\":0, \"Z\":0}\n",
    "        print(\"start\")\n",
    "        \n",
    "    def calculate_number(self, predict_ID, xml_ID):\n",
    "        \n",
    "        predict_ID_length = len(predict_ID)\n",
    "        xml_ID_length = len(xml_ID)\n",
    "        \n",
    "        if predict_ID_length == xml_ID_length:\n",
    "            \n",
    "            for t in range(predict_ID_length):\n",
    "                predict_ID_single = predict_ID[t]\n",
    "                self.all_ID_number[predict_ID_single]+=1\n",
    "                if predict_ID_single != xml_ID[t]:                   \n",
    "                    self.error_ID_number[predict_ID_single]+=1\n",
    "       \n",
    "        return self.all_ID_number, self.error_ID_number\n",
    "        \n",
    "        \n",
    "    def final_stastics(self, all_ID_number, error_ID_number):\n",
    "        \n",
    "        for key in all_ID_number:\n",
    "            #print(key, 'corresponds to', all_ID_number[key])\n",
    "            error_ID_number_value= error_ID_number[key]\n",
    "            all_ID_number_value= all_ID_number[key]\n",
    "            if error_ID_number_value !=0 or all_ID_number_value !=0:\n",
    "                \n",
    "                \n",
    "                acc= 1-(error_ID_number_value/all_ID_number_value)\n",
    "            \n",
    "                self.final_acc[key]=acc\n",
    "        \n",
    "        return self.final_acc\n",
    "\n",
    "            \n",
    "        \n",
    "a=Stastics()  \n",
    "list1=[\"A\",\"S\",\"2\",\"9\",\"6\"]\n",
    "list2=[\"A\",\"5\",\"2\",\"9\",\"9\"]\n",
    "b=a.calculate_number(list1, list2)\n",
    "list3=[\"A\",\"J\",\"2\",\"S\",\"4\"]\n",
    "list4=[\"A\",\"1\",\"5\",\"3\",\"4\"]\n",
    "b=a.calculate_number(list3, list4)\n",
    "print(b)"
   ]
  },
  {
   "cell_type": "code",
   "execution_count": 27,
   "metadata": {},
   "outputs": [
    {
     "data": {
      "text/plain": [
       "{'0': 0,\n",
       " '1': 0,\n",
       " '2': 0.5,\n",
       " '3': 0,\n",
       " '4': 1.0,\n",
       " '5': 0,\n",
       " '6': 0.0,\n",
       " '7': 0,\n",
       " '8': 0,\n",
       " '9': 1.0,\n",
       " 'A': 1.0,\n",
       " 'B': 0,\n",
       " 'C': 0,\n",
       " 'D': 0,\n",
       " 'E': 0,\n",
       " 'F': 0,\n",
       " 'G': 0,\n",
       " 'H': 0,\n",
       " 'I': 0,\n",
       " 'J': 0.0,\n",
       " 'K': 0,\n",
       " 'L': 0,\n",
       " 'M': 0,\n",
       " 'N': 0,\n",
       " 'O': 0,\n",
       " 'P': 0,\n",
       " 'Q': 0,\n",
       " 'R': 0,\n",
       " 'S': 0.0,\n",
       " 'T': 0,\n",
       " 'U': 0,\n",
       " 'V': 0,\n",
       " 'W': 0,\n",
       " 'X': 0,\n",
       " 'Y': 0,\n",
       " 'Z': 0}"
      ]
     },
     "execution_count": 27,
     "metadata": {},
     "output_type": "execute_result"
    }
   ],
   "source": [
    "a.final_stastics(b[0], b[1])"
   ]
  },
  {
   "cell_type": "code",
   "execution_count": null,
   "metadata": {
    "collapsed": true
   },
   "outputs": [],
   "source": []
  }
 ],
 "metadata": {
  "kernelspec": {
   "display_name": "Python 3",
   "language": "python",
   "name": "python3"
  },
  "language_info": {
   "codemirror_mode": {
    "name": "ipython",
    "version": 3
   },
   "file_extension": ".py",
   "mimetype": "text/x-python",
   "name": "python",
   "nbconvert_exporter": "python",
   "pygments_lexer": "ipython3",
   "version": "3.6.13"
  }
 },
 "nbformat": 4,
 "nbformat_minor": 2
}
