{
 "cells": [
  {
   "cell_type": "code",
   "execution_count": null,
   "metadata": {},
   "outputs": [
    {
     "name": "stdout",
     "output_type": "stream",
     "text": [
      "Client message is: Hello!\n"
     ]
    }
   ],
   "source": [
    "# -*- coding: utf-8 -*-\n",
    "import socket\n",
    "\n",
    "HOST = '127.0.0.1'\n",
    "PORT = 8000\n",
    "\n",
    "server = socket.socket(socket.AF_INET, socket.SOCK_STREAM)\n",
    "server.bind((HOST, PORT))\n",
    "server.listen(10)\n",
    "\n",
    "while True:\n",
    "    conn, addr = server.accept()\n",
    "    clientMessage = str(conn.recv(1024), encoding='utf-8')\n",
    "\n",
    "    print('Client message is:', clientMessage)\n",
    "\n",
    "    serverMessage = 'I\\'m here!'\n",
    "    conn.sendall(serverMessage.encode())\n",
    "    conn.close()"
   ]
  },
  {
   "cell_type": "code",
   "execution_count": null,
   "metadata": {
    "collapsed": true
   },
   "outputs": [],
   "source": []
  }
 ],
 "metadata": {
  "kernelspec": {
   "display_name": "Python 3",
   "language": "python",
   "name": "python3"
  },
  "language_info": {
   "codemirror_mode": {
    "name": "ipython",
    "version": 3
   },
   "file_extension": ".py",
   "mimetype": "text/x-python",
   "name": "python",
   "nbconvert_exporter": "python",
   "pygments_lexer": "ipython3",
   "version": "3.6.12"
  }
 },
 "nbformat": 4,
 "nbformat_minor": 2
}
