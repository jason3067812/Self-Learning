{
 "cells": [
  {
   "cell_type": "code",
   "execution_count": null,
   "metadata": {
    "collapsed": true
   },
   "outputs": [],
   "source": [
    "a=[\"q\",\"w\"]"
   ]
  },
  {
   "cell_type": "code",
   "execution_count": null,
   "metadata": {
    "collapsed": true
   },
   "outputs": [],
   "source": [
    "import os\n",
    "import sys\n",
    "import xml.etree.ElementTree as ET\n",
    "import glob\n",
    "\n",
    "def xml_to_txt(indir,outdir):\n",
    "\n",
    "    os.chdir(indir)\n",
    "    annotations = os.listdir('.')\n",
    "    annotations = glob.glob('*.xml')\n",
    "    #annotations = glob.glob(str(annotations)+'*.xml')\n",
    "    #print(annotations)\n",
    "    for i, file in enumerate(annotations):\n",
    "\n",
    "        file_save = file.split('.')[0]+'.txt'\n",
    "        # file_txt=os.path.join(outdir,file_save)\n",
    "        file_txt = outdir+\"\\\\\"+file_save\n",
    "        # print(file_save)\n",
    "        f_w = open(outdir, 'a')\n",
    "\n",
    "        # actual parsing\n",
    "        in_file = open(file, encoding=\"utf-8\")\n",
    "        tree=ET.parse(in_file)\n",
    "        root = tree.getroot()\n",
    "        filename = root.find('filename').text  #這裡是xml的根，獲取filename那一欄\n",
    "        for obj in root.iter('object'):\n",
    "                current = list()\n",
    "                name = obj.find('name').text   #這裡獲取多個框的名字，底下是獲取每個框的位置\n",
    "\n",
    "                xmlbox = obj.find('bndbox')\n",
    "                xn = xmlbox.find('xmin').text   \n",
    "                xx = xmlbox.find('xmax').text\n",
    "                yn = xmlbox.find('ymin').text\n",
    "                yx = xmlbox.find('ymax').text\n",
    "                #print xn\n",
    "                f_w.write('D:/lab70935/dan/target_steel_coil/test750_img/' +filename +', '+xn+', '+yn+', '+xx+', '+yx+', '+name+',')\n",
    "                f_w.write('test'+'\\n')\n",
    "\n",
    "indir='D:\\\\lab70935\\\\dan\\\\target_steel_coil\\\\test750_xml'   #xml目錄\n",
    "outdir='D:\\\\lab70935\\\\dan\\\\source_number.txt'  #txt目錄\n",
    "\n",
    "xml_to_txt(indir,outdir)"
   ]
  },
  {
   "cell_type": "code",
   "execution_count": 10,
   "metadata": {},
   "outputs": [],
   "source": [
    "from pandas import DataFrame\n",
    "\n",
    "data={'name':['張三','李四','王五'],'age':[11,12,13],'sex':['男','女','男']}\n",
    "\n",
    "df=DataFrame(data)\n",
    "\n",
    "df.to_excel(r\"C:\\Users\\jason\\OneDrive\\桌面\\new.xlsx\")\n",
    "\n"
   ]
  },
  {
   "cell_type": "code",
   "execution_count": 31,
   "metadata": {},
   "outputs": [],
   "source": [
    "data={'name':['a','b','c'],'age':[7,7,7],'sex':['男','女','男']}\n",
    "\n",
    "df=DataFrame(data)\n",
    "\n",
    "df.to_excel(r\"C:\\Users\\jason\\OneDrive\\桌面\\new.xlsx\")"
   ]
  },
  {
   "cell_type": "code",
   "execution_count": 27,
   "metadata": {},
   "outputs": [],
   "source": [
    "data={'name':['A','B','C'],'age':[7,7,7],'sex':['男','女','男']}\n",
    "\n",
    "output=DataFrame(data)\n",
    "\n",
    "# 創建一個空的excel文件\n",
    "nan_excel = pd.DataFrame()\n",
    "nan_excel.to_excel(r\"C:\\Users\\jason\\OneDrive\\桌面\\new.xlsx\")\n",
    "\n",
    "# 打開excel\n",
    "writer = pd.ExcelWriter(r\"C:\\Users\\jason\\OneDrive\\桌面\\new.xlsx\")\n",
    "#sheets是要寫入的excel工作簿名稱列表\n",
    "sheets=[\"list1\"]\n",
    "for sheet in sheets:\n",
    "    output.to_excel(writer, sheet_name=sheet)\n",
    "\n",
    "# 保存writer中的數據至excel\n",
    "# 如果省略該語句，則數據不會寫入到上邊創建的excel文件中\n",
    "writer.save()"
   ]
  },
  {
   "cell_type": "code",
   "execution_count": 38,
   "metadata": {},
   "outputs": [
    {
     "ename": "XLRDError",
     "evalue": "Excel xlsx file; not supported",
     "output_type": "error",
     "traceback": [
      "\u001b[1;31m---------------------------------------------------------------------------\u001b[0m",
      "\u001b[1;31mXLRDError\u001b[0m                                 Traceback (most recent call last)",
      "\u001b[1;32m<ipython-input-38-f6ddcc3fb190>\u001b[0m in \u001b[0;36m<module>\u001b[1;34m()\u001b[0m\n\u001b[0;32m     15\u001b[0m \u001b[0mfile\u001b[0m\u001b[1;33m=\u001b[0m\u001b[1;34mr\"C:\\Users\\jason\\OneDrive\\桌面\\new.xlsx\"\u001b[0m\u001b[1;33m\u001b[0m\u001b[1;33m\u001b[0m\u001b[0m\n\u001b[0;32m     16\u001b[0m \u001b[0mstyle\u001b[0m \u001b[1;33m=\u001b[0m \u001b[0mxlwt\u001b[0m\u001b[1;33m.\u001b[0m\u001b[0measyxf\u001b[0m\u001b[1;33m(\u001b[0m\u001b[1;34m'font:height 240, color-index red, bold on;align: wrap on, vert centre, horiz center'\u001b[0m\u001b[1;33m)\u001b[0m\u001b[1;33m;\u001b[0m\u001b[1;33m\u001b[0m\u001b[1;33m\u001b[0m\u001b[0m\n\u001b[1;32m---> 17\u001b[1;33m \u001b[0mwriteExcel\u001b[0m\u001b[1;33m(\u001b[0m\u001b[0mfile\u001b[0m\u001b[1;33m,\u001b[0m\u001b[1;36m1\u001b[0m\u001b[1;33m,\u001b[0m \u001b[1;36m1\u001b[0m\u001b[1;33m,\u001b[0m \u001b[1;34m'hello world'\u001b[0m\u001b[1;33m,\u001b[0m \u001b[0mstyle\u001b[0m\u001b[1;33m)\u001b[0m\u001b[1;33m\u001b[0m\u001b[1;33m\u001b[0m\u001b[0m\n\u001b[0m",
      "\u001b[1;32m<ipython-input-38-f6ddcc3fb190>\u001b[0m in \u001b[0;36mwriteExcel\u001b[1;34m(file, row, col, str, styl)\u001b[0m\n\u001b[0;32m      7\u001b[0m \u001b[1;32mdef\u001b[0m \u001b[0mwriteExcel\u001b[0m\u001b[1;33m(\u001b[0m\u001b[0mfile\u001b[0m\u001b[1;33m,\u001b[0m\u001b[0mrow\u001b[0m\u001b[1;33m,\u001b[0m \u001b[0mcol\u001b[0m\u001b[1;33m,\u001b[0m \u001b[0mstr\u001b[0m\u001b[1;33m,\u001b[0m \u001b[0mstyl\u001b[0m\u001b[1;33m=\u001b[0m\u001b[0mStyle\u001b[0m\u001b[1;33m.\u001b[0m\u001b[0mdefault_style\u001b[0m\u001b[1;33m)\u001b[0m\u001b[1;33m:\u001b[0m\u001b[1;33m\u001b[0m\u001b[1;33m\u001b[0m\u001b[0m\n\u001b[0;32m      8\u001b[0m \u001b[1;33m\u001b[0m\u001b[0m\n\u001b[1;32m----> 9\u001b[1;33m     \u001b[0mrb\u001b[0m \u001b[1;33m=\u001b[0m \u001b[0mxlrd\u001b[0m\u001b[1;33m.\u001b[0m\u001b[0mopen_workbook\u001b[0m\u001b[1;33m(\u001b[0m\u001b[0mfile\u001b[0m\u001b[1;33m,\u001b[0m \u001b[0mformatting_info\u001b[0m\u001b[1;33m=\u001b[0m\u001b[1;32mTrue\u001b[0m\u001b[1;33m)\u001b[0m\u001b[1;33m\u001b[0m\u001b[1;33m\u001b[0m\u001b[0m\n\u001b[0m\u001b[0;32m     10\u001b[0m     \u001b[0mwb\u001b[0m \u001b[1;33m=\u001b[0m \u001b[0mcopy\u001b[0m\u001b[1;33m(\u001b[0m\u001b[0mrb\u001b[0m\u001b[1;33m)\u001b[0m\u001b[1;33m\u001b[0m\u001b[1;33m\u001b[0m\u001b[0m\n\u001b[0;32m     11\u001b[0m     \u001b[0mws\u001b[0m \u001b[1;33m=\u001b[0m \u001b[0mwb\u001b[0m\u001b[1;33m.\u001b[0m\u001b[0mget_sheet\u001b[0m\u001b[1;33m(\u001b[0m\u001b[1;36m0\u001b[0m\u001b[1;33m)\u001b[0m\u001b[1;33m\u001b[0m\u001b[1;33m\u001b[0m\u001b[0m\n",
      "\u001b[1;32m~\\anaconda3\\envs\\tf13\\lib\\site-packages\\xlrd\\__init__.py\u001b[0m in \u001b[0;36mopen_workbook\u001b[1;34m(filename, logfile, verbosity, use_mmap, file_contents, encoding_override, formatting_info, on_demand, ragged_rows, ignore_workbook_corruption)\u001b[0m\n\u001b[0;32m    168\u001b[0m     \u001b[1;33m:\u001b[0m\u001b[0mparam\u001b[0m \u001b[0munnumbered\u001b[0m\u001b[1;33m:\u001b[0m \u001b[0mIf\u001b[0m \u001b[0mtrue\u001b[0m\u001b[1;33m,\u001b[0m \u001b[0momit\u001b[0m \u001b[0moffsets\u001b[0m \u001b[1;33m(\u001b[0m\u001b[1;32mfor\u001b[0m \u001b[0mmeaningful\u001b[0m \u001b[0mdiffs\u001b[0m\u001b[1;33m)\u001b[0m\u001b[1;33m.\u001b[0m\u001b[1;33m\u001b[0m\u001b[1;33m\u001b[0m\u001b[0m\n\u001b[0;32m    169\u001b[0m     \"\"\"\n\u001b[1;32m--> 170\u001b[1;33m     \u001b[1;32mfrom\u001b[0m \u001b[1;33m.\u001b[0m\u001b[0mbiffh\u001b[0m \u001b[1;32mimport\u001b[0m \u001b[0mbiff_dump\u001b[0m\u001b[1;33m\u001b[0m\u001b[1;33m\u001b[0m\u001b[0m\n\u001b[0m\u001b[0;32m    171\u001b[0m     \u001b[0mbk\u001b[0m \u001b[1;33m=\u001b[0m \u001b[0mBook\u001b[0m\u001b[1;33m(\u001b[0m\u001b[1;33m)\u001b[0m\u001b[1;33m\u001b[0m\u001b[1;33m\u001b[0m\u001b[0m\n\u001b[0;32m    172\u001b[0m     \u001b[0mbk\u001b[0m\u001b[1;33m.\u001b[0m\u001b[0mbiff2_8_load\u001b[0m\u001b[1;33m(\u001b[0m\u001b[0mfilename\u001b[0m\u001b[1;33m=\u001b[0m\u001b[0mfilename\u001b[0m\u001b[1;33m,\u001b[0m \u001b[0mlogfile\u001b[0m\u001b[1;33m=\u001b[0m\u001b[0moutfile\u001b[0m\u001b[1;33m,\u001b[0m \u001b[1;33m)\u001b[0m\u001b[1;33m\u001b[0m\u001b[1;33m\u001b[0m\u001b[0m\n",
      "\u001b[1;31mXLRDError\u001b[0m: Excel xlsx file; not supported"
     ]
    }
   ],
   "source": [
    "import xlrd\n",
    "import os\n",
    "import pandas\n",
    "from xlutils.copy import copy\n",
    "from xlwt import Style\n",
    " \n",
    "def writeExcel(file,row, col, str, styl=Style.default_style):\n",
    "   \n",
    "    rb = xlrd.open_workbook(file, formatting_info=True)\n",
    "    wb = copy(rb)\n",
    "    ws = wb.get_sheet(0)\n",
    "    ws.write(row, col, str, styl)\n",
    "    wb.save(file)\n",
    " \n",
    "file=r\"C:\\Users\\jason\\OneDrive\\桌面\\new.xlsx\"\n",
    "style = xlwt.easyxf('font:height 240, color-index red, bold on;align: wrap on, vert centre, horiz center');\n",
    "writeExcel(file,1, 1, 'hello world', style)"
   ]
  },
  {
   "cell_type": "code",
   "execution_count": null,
   "metadata": {
    "collapsed": true
   },
   "outputs": [],
   "source": []
  }
 ],
 "metadata": {
  "kernelspec": {
   "display_name": "Python 3",
   "language": "python",
   "name": "python3"
  },
  "language_info": {
   "codemirror_mode": {
    "name": "ipython",
    "version": 3
   },
   "file_extension": ".py",
   "mimetype": "text/x-python",
   "name": "python",
   "nbconvert_exporter": "python",
   "pygments_lexer": "ipython3",
   "version": "3.6.12"
  }
 },
 "nbformat": 4,
 "nbformat_minor": 2
}
