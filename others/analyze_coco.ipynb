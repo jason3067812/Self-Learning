{
 "cells": [
  {
   "cell_type": "code",
   "execution_count": 10,
   "id": "459bab1d",
   "metadata": {},
   "outputs": [],
   "source": [
    "def coco_category_to_topology(coco_category):\n",
    "    \"\"\"Gets topology tensor from a COCO category\n",
    "    \"\"\"\n",
    "    skeleton = coco_category['skeleton']\n",
    "    K = len(skeleton)\n",
    "    topology = torch.zeros((K, 4)).int()\n",
    "    for k in range(K):\n",
    "        topology[k][0] = 2 * k\n",
    "        topology[k][1] = 2 * k + 1\n",
    "        topology[k][2] = skeleton[k][0] - 1\n",
    "        topology[k][3] = skeleton[k][1] - 1\n",
    "    return topology\n",
    "\n",
    "\n",
    "def coco_category_to_parts(coco_category):\n",
    "    \"\"\"Gets list of parts name from a COCO category\n",
    "    \"\"\"\n",
    "    return coco_category['keypoints']\n",
    "\n",
    "def coco_annotations_to_tensors(coco_annotations,\n",
    "                                image_shape,\n",
    "                                parts,\n",
    "                                topology,\n",
    "                                max_count=100):\n",
    "    \"\"\"Gets tensors corresponding to peak counts, peak coordinates, and peak to peak connections\n",
    "    \"\"\"\n",
    "    annotations = coco_annotations\n",
    "    C = len(parts)\n",
    "    K = topology.shape[0]\n",
    "    M = max_count\n",
    "    IH = image_shape[0]\n",
    "    IW = image_shape[1]\n",
    "    counts = torch.zeros((C)).int()\n",
    "    peaks = torch.zeros((C, M, 2)).float()\n",
    "    visibles = torch.zeros((len(annotations), C)).int()\n",
    "    connections = -torch.ones((K, 2, M)).int()\n",
    "\n",
    "    for ann_idx, ann in enumerate(annotations):\n",
    "\n",
    "        kps = ann['keypoints']\n",
    "\n",
    "        # add visible peaks\n",
    "        for c in range(C):\n",
    "\n",
    "            x = kps[c * 3]\n",
    "            y = kps[c * 3 + 1]\n",
    "            visible = kps[c * 3 + 2]\n",
    "\n",
    "            if visible:\n",
    "                peaks[c][counts[c]][0] = (float(y) + 0.5) / (IH + 1.0)\n",
    "                peaks[c][counts[c]][1] = (float(x) + 0.5) / (IW + 1.0)\n",
    "                counts[c] = counts[c] + 1\n",
    "                visibles[ann_idx][c] = 1\n",
    "\n",
    "        for k in range(K):\n",
    "            c_a = topology[k][2]\n",
    "            c_b = topology[k][3]\n",
    "            if visibles[ann_idx][c_a] and visibles[ann_idx][c_b]:\n",
    "                connections[k][0][counts[c_a] - 1] = counts[c_b] - 1\n",
    "                connections[k][1][counts[c_b] - 1] = counts[c_a] - 1\n",
    "\n",
    "    return counts, peaks, connections"
   ]
  },
  {
   "cell_type": "code",
   "execution_count": 11,
   "id": "3823e683",
   "metadata": {},
   "outputs": [
    {
     "name": "stdout",
     "output_type": "stream",
     "text": [
      "{'supercategory': 'person', 'id': 1, 'name': 'person', 'keypoints': ['nose', 'left_eye', 'right_eye', 'left_ear', 'right_ear', 'left_shoulder', 'right_shoulder', 'left_elbow', 'right_elbow', 'left_wrist', 'right_wrist', 'left_hip', 'right_hip', 'left_knee', 'right_knee', 'left_ankle', 'right_ankle', 'neck'], 'skeleton': [[16, 14], [14, 12], [17, 15], [15, 13], [12, 13], [6, 8], [7, 9], [8, 10], [9, 11], [2, 3], [1, 2], [1, 3], [2, 4], [3, 5], [4, 6], [5, 7], [18, 1], [18, 6], [18, 7], [18, 12], [18, 13]]}\n",
      "\n"
     ]
    }
   ],
   "source": [
    "import json\n",
    "import torch\n",
    "import tqdm\n",
    "\n",
    "min_area=0.0\n",
    "max_area=1.0\n",
    "max_part_count = 100\n",
    "\n",
    "annotations_file = r\"D:\\person_keypoints_val2017_modified.json\"\n",
    "category_name = \"person\"\n",
    "use_crowd=False\n",
    "\n",
    "\n",
    "\n",
    "\n",
    "with open(annotations_file, 'r') as f:\n",
    "    data = json.load(f)\n",
    "\n",
    "cat = [c for c in data['categories'] if c['name'] == category_name][0]\n",
    "print(cat)\n",
    "print(\"\")\n",
    "cat_id = cat['id']\n",
    "\n",
    "\n",
    "# 目的是包成 => 397133: {'license': 4, 'file_name': '000000397133.jpg', 'coco_url': 'http://images.cocodataset.org/val2017/000000397133.jpg', 'height': 427, 'width': 640, 'date_captured': '2013-11-14 17:02:52', 'flickr_url': 'http://farm7.staticflickr.com/6116/6255196340_da26cf2c9e_z.jpg', 'id': 397133}\n",
    "img_map = {}\n",
    "for img in data['images']:\n",
    "    img_map[img['id']] = img\n",
    "    \n",
    "\n",
    "    \n"
   ]
  },
  {
   "cell_type": "code",
   "execution_count": 12,
   "id": "7c292126",
   "metadata": {},
   "outputs": [],
   "source": [
    "samples = {}\n",
    "count = 0\n",
    "c = 0\n",
    "for ann in data['annotations']:\n",
    "\n",
    "    # filter by category\n",
    "    if ann['category_id'] != cat_id:\n",
    "        continue\n",
    "\n",
    "    # filter by crowd\n",
    "    if not use_crowd and ann['iscrowd']:\n",
    "        continue\n",
    "\n",
    "    img_id = ann['image_id']\n",
    "    img = img_map[img_id]    \n",
    "    height = img['height']\n",
    "    width = img['width']    \n",
    "    area = ann['area']\n",
    "    \n",
    "\n",
    "#     print(img_id)\n",
    "#     print(img)\n",
    "#     print(height)\n",
    "#     print(width)\n",
    "#     print(area)\n",
    "#     print(\"\")\n",
    "\n",
    "\n",
    "    # 複製圖片\n",
    "    new_img_id = -img_id   \n",
    "    new_img = img    \n",
    "    new_height = height\n",
    "    new_width = width   \n",
    "    new_area = area\n",
    "\n",
    "    \n",
    "    # filter by object area\n",
    "    normalized_area = float(area) / float(height * width)\n",
    "    if normalized_area < min_area or normalized_area > max_area:\n",
    "        continue\n",
    "    \n",
    "   \n",
    "    # add metadata\n",
    "    if img_id not in samples:\n",
    "        c = c + 2\n",
    "        sample = {}\n",
    "        \n",
    "        sample['img'] = img\n",
    "        sample['anns'] = [ann]\n",
    "        \n",
    "        samples[img_id] = sample        \n",
    "        samples[new_img_id] = sample\n",
    "\n",
    "\n",
    "        \n",
    "    \n",
    "    # 當同張圖片出現兩個骨架以上時\n",
    "    else:\n",
    "        c = c + 2        \n",
    "        \n",
    "#         print(\"detect\")\n",
    "#         print(img_id)\n",
    "#         print(\"before\")\n",
    "#         print(samples[img_id]['anns'])\n",
    "#         print([ann])\n",
    "#         print(\"after\")\n",
    "        \n",
    "    \n",
    "        samples[img_id]['anns'] += [ann]    \n",
    "        samples[new_img_id]['anns'] += [ann]\n",
    "        \n",
    "#         print(samples[img_id]['anns'])\n",
    "#         print(\"end\\n\")\n",
    "\n",
    "    \n",
    "       "
   ]
  },
  {
   "cell_type": "code",
   "execution_count": 13,
   "id": "136969ad",
   "metadata": {},
   "outputs": [
    {
     "name": "stdout",
     "output_type": "stream",
     "text": [
      "total 圖片數量: 5386\n",
      "total 骨架標記數量: 21554\n"
     ]
    }
   ],
   "source": [
    "# generate tensors\n",
    "topology = coco_category_to_topology(cat)\n",
    "parts = coco_category_to_parts(cat)\n",
    "\n",
    "\n",
    "N = len(samples)\n",
    "C = len(parts)\n",
    "K = topology.shape[0]\n",
    "M = max_part_count\n",
    "\n",
    "#print([N,C,K,M])\n",
    "\n",
    "print(\"total 圖片數量:\",N)\n",
    "print(\"total 骨架標記數量:\",c)"
   ]
  },
  {
   "cell_type": "code",
   "execution_count": 103,
   "id": "fed92ba9",
   "metadata": {},
   "outputs": [
    {
     "name": "stdout",
     "output_type": "stream",
     "text": [
      "Generating intermediate tensors...\n"
     ]
    },
    {
     "name": "stderr",
     "output_type": "stream",
     "text": [
      "5386it [00:33, 162.77it/s]"
     ]
    },
    {
     "name": "stdout",
     "output_type": "stream",
     "text": [
      "000000425226.jpg\n"
     ]
    },
    {
     "name": "stderr",
     "output_type": "stream",
     "text": [
      "\n"
     ]
    }
   ],
   "source": [
    "print('Generating intermediate tensors...')\n",
    "\n",
    "\n",
    "counts = torch.zeros((N, C), dtype=torch.int32)\n",
    "peaks = torch.zeros((N, C, M, 2), dtype=torch.float32)\n",
    "connections = torch.zeros((N, K, 2, M), dtype=torch.int32)\n",
    "filenames = []\n",
    "samples2 = []\n",
    "\n",
    "for i, sample in tqdm.tqdm(enumerate(samples.values())):\n",
    "    filename = sample['img']['file_name']   \n",
    "    filenames.append(filename)\n",
    "    image_shape = (sample['img']['height'], sample['img']['width'])\n",
    "    counts_i, peaks_i, connections_i = coco_annotations_to_tensors(\n",
    "        sample['anns'], image_shape, parts, topology)\n",
    "    counts[i] = counts_i\n",
    "    peaks[i] = peaks_i\n",
    "    connections[i] = connections_i\n",
    "    samples2 += [sample]\n",
    "    \n",
    "print(filenames)"
   ]
  },
  {
   "cell_type": "code",
   "execution_count": 105,
   "id": "4cf3bdc7",
   "metadata": {},
   "outputs": [
    {
     "name": "stdout",
     "output_type": "stream",
     "text": [
      "000000425226.jpg\n"
     ]
    }
   ],
   "source": [
    "print(filenames[1])"
   ]
  },
  {
   "cell_type": "code",
   "execution_count": 123,
   "id": "06e9a453",
   "metadata": {},
   "outputs": [
    {
     "name": "stdout",
     "output_type": "stream",
     "text": [
      "[{'img': {'license': 1, 'file_name': '000000425226.jpg', 'coco_url': 'http://images.cocodataset.org/val2017/000000425226.jpg', 'height': 640, 'width': 480, 'date_captured': '2013-11-14 21:48:51', 'flickr_url': 'http://farm5.staticflickr.com/4055/4546463824_bc40e0752b_z.jpg', 'id': 425226}, 'anns': [{'segmentation': [[125.12, 539.69, 140.94, 522.43, 100.67, 496.54, 84.85, 469.21, 73.35, 450.52, 104.99, 342.65, 168.27, 290.88, 179.78, 288, 189.84, 286.56, 191.28, 260.67, 202.79, 240.54, 221.48, 237.66, 248.81, 243.42, 257.44, 256.36, 253.12, 262.11, 253.12, 275.06, 299.15, 233.35, 329.35, 207.46, 355.24, 206.02, 363.87, 206.02, 365.3, 210.34, 373.93, 221.84, 363.87, 226.16, 363.87, 237.66, 350.92, 237.66, 332.22, 234.79, 314.97, 249.17, 271.82, 313.89, 253.12, 326.83, 227.24, 352.72, 214.29, 357.03, 212.85, 372.85, 208.54, 395.87, 228.67, 414.56, 245.93, 421.75, 266.07, 424.63, 276.13, 437.57, 266.07, 450.52, 284.76, 464.9, 286.2, 479.28, 291.96, 489.35, 310.65, 512.36, 284.76, 549.75, 244.49, 522.43, 215.73, 546.88, 199.91, 558.38, 204.22, 565.57, 189.84, 568.45, 184.09, 575.64, 172.58, 578.52, 145.26, 567.01, 117.93, 551.19, 133.75, 532.49]], 'num_keypoints': 10, 'area': 47803.27955, 'iscrowd': 0, 'keypoints': [0, 0, 0, 0, 0, 0, 0, 0, 0, 0, 0, 0, 0, 0, 0, 142, 309, 1, 177, 320, 2, 191, 398, 2, 237, 317, 2, 233, 426, 2, 306, 233, 2, 92, 452, 2, 123, 468, 2, 0, 0, 0, 251, 469, 2, 0, 0, 0, 162, 551, 2, 160, 314, 1], 'image_id': 425226, 'bbox': [73.35, 206.02, 300.58, 372.5], 'category_id': 1, 'id': 183126}]}, {'img': {'license': 1, 'file_name': '000000425226.jpg', 'coco_url': 'http://images.cocodataset.org/val2017/000000425226.jpg', 'height': 640, 'width': 480, 'date_captured': '2013-11-14 21:48:51', 'flickr_url': 'http://farm5.staticflickr.com/4055/4546463824_bc40e0752b_z.jpg', 'id': 425226}, 'anns': [{'segmentation': [[125.12, 539.69, 140.94, 522.43, 100.67, 496.54, 84.85, 469.21, 73.35, 450.52, 104.99, 342.65, 168.27, 290.88, 179.78, 288, 189.84, 286.56, 191.28, 260.67, 202.79, 240.54, 221.48, 237.66, 248.81, 243.42, 257.44, 256.36, 253.12, 262.11, 253.12, 275.06, 299.15, 233.35, 329.35, 207.46, 355.24, 206.02, 363.87, 206.02, 365.3, 210.34, 373.93, 221.84, 363.87, 226.16, 363.87, 237.66, 350.92, 237.66, 332.22, 234.79, 314.97, 249.17, 271.82, 313.89, 253.12, 326.83, 227.24, 352.72, 214.29, 357.03, 212.85, 372.85, 208.54, 395.87, 228.67, 414.56, 245.93, 421.75, 266.07, 424.63, 276.13, 437.57, 266.07, 450.52, 284.76, 464.9, 286.2, 479.28, 291.96, 489.35, 310.65, 512.36, 284.76, 549.75, 244.49, 522.43, 215.73, 546.88, 199.91, 558.38, 204.22, 565.57, 189.84, 568.45, 184.09, 575.64, 172.58, 578.52, 145.26, 567.01, 117.93, 551.19, 133.75, 532.49]], 'num_keypoints': 10, 'area': 47803.27955, 'iscrowd': 0, 'keypoints': [0, 0, 0, 0, 0, 0, 0, 0, 0, 0, 0, 0, 0, 0, 0, 142, 309, 1, 177, 320, 2, 191, 398, 2, 237, 317, 2, 233, 426, 2, 306, 233, 2, 92, 452, 2, 123, 468, 2, 0, 0, 0, 251, 469, 2, 0, 0, 0, 162, 551, 2, 160, 314, 1], 'image_id': 425226, 'bbox': [73.35, 206.02, 300.58, 372.5], 'category_id': 1, 'id': 183126}]}]\n"
     ]
    }
   ],
   "source": [
    "print(samples2[0:2]) "
   ]
  },
  {
   "cell_type": "code",
   "execution_count": 115,
   "id": "d19c2b71",
   "metadata": {},
   "outputs": [
    {
     "name": "stdout",
     "output_type": "stream",
     "text": [
      "{'license': 1, 'file_name': '000000425226.jpg', 'coco_url': 'http://images.cocodataset.org/val2017/000000425226.jpg', 'height': 640, 'width': 480, 'date_captured': '2013-11-14 21:48:51', 'flickr_url': 'http://farm5.staticflickr.com/4055/4546463824_bc40e0752b_z.jpg', 'id': 425226}\n",
      "{'license': 1, 'file_name': '000000425226.jpg', 'coco_url': 'http://images.cocodataset.org/val2017/000000425226.jpg', 'height': 640, 'width': 480, 'date_captured': '2013-11-14 21:48:51', 'flickr_url': 'http://farm5.staticflickr.com/4055/4546463824_bc40e0752b_z.jpg', 'id': 425226}\n",
      "{'license': 3, 'file_name': '000000440475.jpg', 'coco_url': 'http://images.cocodataset.org/val2017/000000440475.jpg', 'height': 427, 'width': 640, 'date_captured': '2013-11-14 22:53:18', 'flickr_url': 'http://farm1.staticflickr.com/54/186534636_d975224e88_z.jpg', 'id': 440475}\n"
     ]
    }
   ],
   "source": [
    "print(samples2[0]['img']) \n",
    "print(samples2[1]['img'])\n",
    "print(samples2[2]['img']) "
   ]
  },
  {
   "cell_type": "code",
   "execution_count": 121,
   "id": "194f425f",
   "metadata": {},
   "outputs": [
    {
     "name": "stdout",
     "output_type": "stream",
     "text": [
      "[{'segmentation': [[125.12, 539.69, 140.94, 522.43, 100.67, 496.54, 84.85, 469.21, 73.35, 450.52, 104.99, 342.65, 168.27, 290.88, 179.78, 288, 189.84, 286.56, 191.28, 260.67, 202.79, 240.54, 221.48, 237.66, 248.81, 243.42, 257.44, 256.36, 253.12, 262.11, 253.12, 275.06, 299.15, 233.35, 329.35, 207.46, 355.24, 206.02, 363.87, 206.02, 365.3, 210.34, 373.93, 221.84, 363.87, 226.16, 363.87, 237.66, 350.92, 237.66, 332.22, 234.79, 314.97, 249.17, 271.82, 313.89, 253.12, 326.83, 227.24, 352.72, 214.29, 357.03, 212.85, 372.85, 208.54, 395.87, 228.67, 414.56, 245.93, 421.75, 266.07, 424.63, 276.13, 437.57, 266.07, 450.52, 284.76, 464.9, 286.2, 479.28, 291.96, 489.35, 310.65, 512.36, 284.76, 549.75, 244.49, 522.43, 215.73, 546.88, 199.91, 558.38, 204.22, 565.57, 189.84, 568.45, 184.09, 575.64, 172.58, 578.52, 145.26, 567.01, 117.93, 551.19, 133.75, 532.49]], 'num_keypoints': 10, 'area': 47803.27955, 'iscrowd': 0, 'keypoints': [0, 0, 0, 0, 0, 0, 0, 0, 0, 0, 0, 0, 0, 0, 0, 142, 309, 1, 177, 320, 2, 191, 398, 2, 237, 317, 2, 233, 426, 2, 306, 233, 2, 92, 452, 2, 123, 468, 2, 0, 0, 0, 251, 469, 2, 0, 0, 0, 162, 551, 2, 160, 314, 1], 'image_id': 425226, 'bbox': [73.35, 206.02, 300.58, 372.5], 'category_id': 1, 'id': 183126}]\n",
      "[{'segmentation': [[125.12, 539.69, 140.94, 522.43, 100.67, 496.54, 84.85, 469.21, 73.35, 450.52, 104.99, 342.65, 168.27, 290.88, 179.78, 288, 189.84, 286.56, 191.28, 260.67, 202.79, 240.54, 221.48, 237.66, 248.81, 243.42, 257.44, 256.36, 253.12, 262.11, 253.12, 275.06, 299.15, 233.35, 329.35, 207.46, 355.24, 206.02, 363.87, 206.02, 365.3, 210.34, 373.93, 221.84, 363.87, 226.16, 363.87, 237.66, 350.92, 237.66, 332.22, 234.79, 314.97, 249.17, 271.82, 313.89, 253.12, 326.83, 227.24, 352.72, 214.29, 357.03, 212.85, 372.85, 208.54, 395.87, 228.67, 414.56, 245.93, 421.75, 266.07, 424.63, 276.13, 437.57, 266.07, 450.52, 284.76, 464.9, 286.2, 479.28, 291.96, 489.35, 310.65, 512.36, 284.76, 549.75, 244.49, 522.43, 215.73, 546.88, 199.91, 558.38, 204.22, 565.57, 189.84, 568.45, 184.09, 575.64, 172.58, 578.52, 145.26, 567.01, 117.93, 551.19, 133.75, 532.49]], 'num_keypoints': 10, 'area': 47803.27955, 'iscrowd': 0, 'keypoints': [0, 0, 0, 0, 0, 0, 0, 0, 0, 0, 0, 0, 0, 0, 0, 142, 309, 1, 177, 320, 2, 191, 398, 2, 237, 317, 2, 233, 426, 2, 306, 233, 2, 92, 452, 2, 123, 468, 2, 0, 0, 0, 251, 469, 2, 0, 0, 0, 162, 551, 2, 160, 314, 1], 'image_id': 425226, 'bbox': [73.35, 206.02, 300.58, 372.5], 'category_id': 1, 'id': 183126}]\n",
      "[{'segmentation': [[492.38, 238.33, 491.91, 234.15, 494.47, 227.65, 495.17, 215.1, 497.02, 199.54, 503.53, 197.22, 503.3, 194.43, 503.3, 190.95, 506.08, 183.51, 511.89, 185.84, 514.21, 187, 514.21, 196.29, 521.88, 200.7, 526.76, 216.03, 520.25, 227.65, 519.56, 234.38, 519.09, 239.49, 519.09, 244.84, 519.56, 246.93, 518.16, 248.32, 516.3, 256.91, 510.03, 256.45, 513.28, 240.89]], 'num_keypoints': 13, 'area': 1394.7431, 'iscrowd': 0, 'keypoints': [508, 192, 2, 510, 191, 2, 506, 191, 2, 512, 192, 2, 503, 192, 1, 515, 202, 2, 499, 202, 2, 524, 214, 2, 497, 215, 2, 516, 226, 2, 496, 224, 2, 511, 232, 2, 497, 230, 2, 0, 0, 0, 0, 0, 0, 0, 0, 0, 0, 0, 0, 507, 202, 2], 'image_id': 440475, 'bbox': [491.91, 183.51, 34.85, 73.4], 'category_id': 1, 'id': 183302}]\n"
     ]
    }
   ],
   "source": [
    "print(samples2[0][\"anns\"]) \n",
    "print(samples2[1]['anns']) \n",
    "print(samples2[2]['anns']) "
   ]
  },
  {
   "cell_type": "code",
   "execution_count": null,
   "id": "4684f163",
   "metadata": {},
   "outputs": [],
   "source": []
  }
 ],
 "metadata": {
  "kernelspec": {
   "display_name": "Python 3 (ipykernel)",
   "language": "python",
   "name": "python3"
  },
  "language_info": {
   "codemirror_mode": {
    "name": "ipython",
    "version": 3
   },
   "file_extension": ".py",
   "mimetype": "text/x-python",
   "name": "python",
   "nbconvert_exporter": "python",
   "pygments_lexer": "ipython3",
   "version": "3.8.12"
  }
 },
 "nbformat": 4,
 "nbformat_minor": 5
}
