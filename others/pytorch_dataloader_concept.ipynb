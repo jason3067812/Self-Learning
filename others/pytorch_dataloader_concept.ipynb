{
 "cells": [
  {
   "cell_type": "code",
   "execution_count": 12,
   "id": "ad03d223",
   "metadata": {},
   "outputs": [],
   "source": [
    "import torch\n",
    "from torch.utils.data import Dataset\n",
    "\n",
    "class data(Dataset):\n",
    "    def __init__(self):\n",
    "        self.data = torch.tensor([[1,2],[3,4]])\n",
    "        self.label = torch.tensor([0,1])\n",
    "    def __getitem__(self,index):\n",
    "        return self.data[index], self.label[index]\n",
    "    \n",
    "    def __len__(self):\n",
    "        return len(self.data)"
   ]
  },
  {
   "cell_type": "code",
   "execution_count": 15,
   "id": "eaaa8c58",
   "metadata": {},
   "outputs": [
    {
     "data": {
      "text/plain": [
       "(tensor([1, 2]), tensor(0))"
      ]
     },
     "execution_count": 15,
     "metadata": {},
     "output_type": "execute_result"
    }
   ],
   "source": [
    "a = data()\n",
    "len(a)\n",
    "a[0]"
   ]
  },
  {
   "cell_type": "code",
   "execution_count": 17,
   "id": "04e9c986",
   "metadata": {},
   "outputs": [
    {
     "name": "stdout",
     "output_type": "stream",
     "text": [
      "i: 0\n",
      "data: tensor([[1, 2],\n",
      "        [3, 4]])\n",
      "Label: tensor([0, 1])\n"
     ]
    }
   ],
   "source": [
    "from torch.utils.data import Dataset,DataLoader\n",
    "\n",
    "Example_loader = DataLoader(a,2,shuffle=False,num_workers = 0,drop_last=True)\n",
    "for i,train_data in enumerate(Example_loader):\n",
    "    print(\"i:\",i)\n",
    "    Data,Label = train_data\n",
    "    print(\"data:\",Data)\n",
    "    print(\"Label:\",Label)"
   ]
  },
  {
   "cell_type": "code",
   "execution_count": null,
   "id": "647a200c",
   "metadata": {},
   "outputs": [],
   "source": []
  }
 ],
 "metadata": {
  "kernelspec": {
   "display_name": "Python 3 (ipykernel)",
   "language": "python",
   "name": "python3"
  },
  "language_info": {
   "codemirror_mode": {
    "name": "ipython",
    "version": 3
   },
   "file_extension": ".py",
   "mimetype": "text/x-python",
   "name": "python",
   "nbconvert_exporter": "python",
   "pygments_lexer": "ipython3",
   "version": "3.8.12"
  }
 },
 "nbformat": 4,
 "nbformat_minor": 5
}
