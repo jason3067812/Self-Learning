{
 "cells": [
  {
   "cell_type": "code",
   "execution_count": null,
   "id": "ec863909",
   "metadata": {},
   "outputs": [],
   "source": [
    "import os\n",
    "\n",
    "path = r\"D:\\test3\"\n",
    "files=os.listdir(path)\n",
    "print(files) \n",
    "\n",
    "for i in files: \n",
    "    \n",
    "    oldname = path + \"\\\\\"+ i\n",
    "    a = i.split(\".\")\n",
    "    new = a[0] + \".pyx\"\n",
    "    newname= path + \"\\\\\" + new\n",
    "    print(newname)\n",
    "    os.rename(oldname,newname)"
   ]
  },
  {
   "cell_type": "code",
   "execution_count": null,
   "id": "11018c02",
   "metadata": {},
   "outputs": [],
   "source": []
  }
 ],
 "metadata": {
  "kernelspec": {
   "display_name": "Python 3",
   "language": "python",
   "name": "python3"
  },
  "language_info": {
   "codemirror_mode": {
    "name": "ipython",
    "version": 3
   },
   "file_extension": ".py",
   "mimetype": "text/x-python",
   "name": "python",
   "nbconvert_exporter": "python",
   "pygments_lexer": "ipython3",
   "version": "3.8.8"
  }
 },
 "nbformat": 4,
 "nbformat_minor": 5
}
